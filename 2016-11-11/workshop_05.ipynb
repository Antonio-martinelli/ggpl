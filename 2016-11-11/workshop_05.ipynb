{
 "cells": [
  {
   "cell_type": "markdown",
   "metadata": {},
   "source": [
    "# My school furniture"
   ]
  },
  {
   "cell_type": "markdown",
   "metadata": {},
   "source": [
    "In this workshop we aim to build some school's furniture such as tables and chairs.\n",
    "I decided to focus on a a nursery school's coloured table, an old style teacher desk and a simple wooden chair for the desk. The functions that returns a *VIEW* of the structures take in input ***dx, dy, dz*** to define their dimensions."
   ]
  },
  {
   "cell_type": "markdown",
   "metadata": {},
   "source": [
    "* ***First model***\n",
    "![Children's table](children_table.jpg)\n",
    "* ***Second model***\n",
    "![Teacher desk](teacher_desk.jpg)\n",
    "* ***Third model***\n",
    "![Teacher chair](teacher_chair.jpg)"
   ]
  },
  {
   "cell_type": "markdown",
   "metadata": {
    "collapsed": true
   },
   "source": [
    "# The method"
   ]
  },
  {
   "cell_type": "markdown",
   "metadata": {},
   "source": [
    "In the followings are enlisted some hints to build a realistic representation of the models and the code developed for this goal."
   ]
  },
  {
   "cell_type": "markdown",
   "metadata": {},
   "source": [
    "## Children's table"
   ]
  },
  {
   "cell_type": "markdown",
   "metadata": {},
   "source": [
    "For the first model I derive a consistent parametric height for the seat from input height ***dz*** and some fixed dimensions: \n",
    "* tableThickness = .05\n",
    "* chairThickness = .02\n",
    "* supportDiameter = .03\n",
    "* chairSeat = .175"
   ]
  },
  {
   "cell_type": "markdown",
   "metadata": {},
   "source": [
    "The whole structure is contained by a box that has input dimensions and generates random colors for the seats."
   ]
  },
  {
   "cell_type": "code",
   "execution_count": 12,
   "metadata": {
    "collapsed": false
   },
   "outputs": [],
   "source": [
    "from pyplasm import *\n",
    "import random\n",
    "\n",
    "def ggpl_children_table(dx,dy,dz):\n",
    "\t\"\"\"This function takes in input three dimensions dx, dy, dz\n",
    "    and returns a VIEW of a children table with randomly generated colours\"\"\"\n",
    "\tstructure = []\n",
    "\ttableThickness = .05\n",
    "\tchairThickness = .02\n",
    "\tsupportDiameter = .03\n",
    "\tchairSeat = .175\n",
    "\tstructureColor = Color4f([184/255., 186/255., 186/255., 1])\n",
    "\tseatHeight = (dz - tableThickness - chairThickness - supportDiameter)/2.\n",
    "\tseat = CYLINDER([chairSeat,chairThickness])(100)\n",
    "\tbox = SKEL_1(CUBOID([dx,dy,dz]))\n",
    "\tbox = T([1,2])([-dx/2.,-dy/2.])(box)\n",
    "\tstructure.append(box)\n",
    "\t\n",
    "\ttable = CYLINDER([dx/2. - chairSeat, tableThickness])(100)\n",
    "\ttable = T([3])([dz - tableThickness])(table)\n",
    "\ttable = COLOR(Color4f([38/255.,226/255.,189/255.,1]))(table)\n",
    "\tstructure.append(table)\n",
    "\n",
    "\ttraslations = [(COS(2*PI/16*x) * (dx - 2*chairSeat)/2. , SIN(2*PI/16*x) * (dx - 2*chairSeat)/2. ) for x in range(0,16+1)][::2]\n",
    "\t\n",
    "\tchairSupport = CYLINDER([.03, seatHeight + supportDiameter])(100)\n",
    "\tchairSupport = COLOR(structureColor)(chairSupport)\n",
    "\t\n",
    "\tmainSupport = CYLINDER([.15, dz - tableThickness])(100)\n",
    "\tmainSupport = COLOR(structureColor)(mainSupport)\n",
    "\tstructure.append(mainSupport)\t\n",
    "\tsupport = CYLINDER([supportDiameter/2., dx/2. - 2*chairSeat/2.])(100)\n",
    "\tsupport = MAP([S3,S2,S1])(support)\n",
    "\tsupport = T([3])(seatHeight/2.)(support)\n",
    "\tsupport = COLOR(structureColor)(support)\n",
    "\tsupports = [support, R([1,2])(2*PI/8.)]*8\n",
    "\tstructure = structure + supports\n",
    "\n",
    "\tfor elem in traslations:\n",
    "\t\ttemp = T([1,2,3])([elem[0],elem[1],seatHeight + supportDiameter])(seat)\n",
    "\t\tstructure.append(COLOR(Color4f([random.random()*255/255.,random.random()*255/255.,random.random()*255/255.,1]))(temp))\n",
    "\t\tstructure.append(T([1,2])([elem[0],elem[1]])(chairSupport))\n",
    "\t\n",
    "\tVIEW(STRUCT(structure))"
   ]
  },
  {
   "cell_type": "markdown",
   "metadata": {},
   "source": [
    "## The teacher's desk"
   ]
  },
  {
   "cell_type": "markdown",
   "metadata": {},
   "source": [
    "For the second model, I stated that the distance gap between the top border and the support should be **dx/30** to have a realistic construction with different inputs.\n",
    "The whole structure is builded considering some given parameters:\n",
    "* footRadius = .05\n",
    "* deskThickness = .03\n",
    "* knobRadius = .02\n",
    "\n",
    "Then we have four ***CYLINDERS*** for the table legs and 2 drawers with doors and knobs:"
   ]
  },
  {
   "cell_type": "code",
   "execution_count": 9,
   "metadata": {
    "collapsed": false
   },
   "outputs": [],
   "source": [
    "from pyplasm import *\n",
    "\n",
    "def ggpl_teacher_desk(dx, dy, dz):\n",
    "\t\"\"\"This function, with three dimensions dx, dy and dz as inputs, \n",
    "\treturns a VIEW of a simple teacher desk.\"\"\"\n",
    "\tdesk = []\n",
    "\tfootRadius = .05\n",
    "\tdeskThickness = .03\n",
    "\tsupportOffset = dx/30\n",
    "\tknobRadius = .02\n",
    "\tbox = SKEL_1(CUBOID([dx,dy,dz]))\n",
    "\tdesk.append(box)\n",
    "\t\n",
    "\tfeetModel = [[0 + footRadius + supportOffset,0 + footRadius + supportOffset],[dx - footRadius - supportOffset,0 + footRadius + supportOffset], \n",
    "\t[dx - footRadius - supportOffset, dy - footRadius -supportOffset], [0 + footRadius + supportOffset, dy - footRadius - supportOffset]]\n",
    "\tfor footModel in feetModel:\n",
    "\t\tfoot = CYLINDER([footRadius, dz - deskThickness])(100)\n",
    "\t\tfoot = T([1,2])([footModel[0],footModel[1]])(foot)\n",
    "\t\tdesk.append(foot)\n",
    "\n",
    "\tdeskPlane = CUBOID([dx, dy, deskThickness])\n",
    "\tdeskPlane = T([3])(dz- deskThickness)(deskPlane)\n",
    "\tdeskPlane = COLOR(Color4f([229/255., 217/255., 203/255., 1]))(deskPlane)\n",
    "\tdesk.append(deskPlane)\n",
    "\n",
    "\tfirstDeskSupport = CUBOID([dx - 2*supportOffset - 2* footRadius, footRadius, 2*deskThickness])\n",
    "\tdeskFirstSupport = T([1,2,3])([supportOffset+footRadius/2., supportOffset + footRadius/2., dz - 3*deskThickness])(firstDeskSupport)\n",
    "\tfirstDeskSupports = [deskFirstSupport, T([1,2,3])([supportOffset+footRadius/2., dy-SIZE([2])(firstDeskSupport)[0]-supportOffset-footRadius/2, dz - 3*deskThickness])(firstDeskSupport)]\n",
    "\n",
    "\tsecondDeskSupport =  CUBOID([footRadius, dy - 2*supportOffset - 2*footRadius, 2*deskThickness])\n",
    "\tsecondDeskFirstSupport = T([1,2,3])([supportOffset + footRadius/2, supportOffset + footRadius/2, dz - 3*deskThickness])(secondDeskSupport)\n",
    "\tsecondDeskSupports = [secondDeskFirstSupport, T([1,2,3])([dx - SIZE([1])(secondDeskSupport)[0]-supportOffset-footRadius/2 ,supportOffset + footRadius/2, dz - 3*deskThickness])(secondDeskSupport)]\n",
    "\n",
    "\tdrawer = CUBOID([dx/3-supportOffset-2*footRadius, dy/2., dz/10 + footRadius])\n",
    "\tdrawer = T([1,2,3])([supportOffset + 2*footRadius, 2*supportOffset + footRadius, dz - deskThickness - 2*deskThickness - dz/10])(drawer)\n",
    "\tdrawerWall = CUBOID([dx/3-supportOffset-2*footRadius, footRadius, dz/10])\n",
    "\tdrawerWall = T([1,2,3])([supportOffset + 2*footRadius, 2*supportOffset, dz - deskThickness - 2*deskThickness - dz/10])(drawerWall)\n",
    "\tdrawerWall = COLOR(Color4f([187/255., 127/255., 65/255., 1]))(drawerWall)\n",
    "\n",
    "\tknob = SPHERE(knobRadius)([40,40])\n",
    "\tknob = JOIN(SKEL_1(knob))\n",
    "\tknob = COLOR(Color4f([255/255., 215/255., 0/255., 1]))(knob)\n",
    "\tknob = T([1,2,3])([supportOffset + 2*footRadius + SIZE([1])(drawerWall)[0]/2, supportOffset + footRadius*.65, dz - deskThickness - 2*deskThickness - SIZE([3])(drawerWall)[0]/2])(knob)\n",
    "\tdrawers = [drawer, drawerWall, knob, T([1])([dx - 2*supportOffset - 4*footRadius - SIZE([1])(drawer)[0]]), drawer, drawerWall, knob]\n",
    "\n",
    "\tdesk = desk + firstDeskSupports + secondDeskSupports + drawers\n",
    "\tVIEW(COLOR(BLACK)(STRUCT(desk)))"
   ]
  },
  {
   "cell_type": "markdown",
   "metadata": {},
   "source": [
    "## The teacher's chair"
   ]
  },
  {
   "cell_type": "markdown",
   "metadata": {},
   "source": [
    "For this last model I assumed that the seat back should've have an height equals to ***dz/6.***\n",
    "Then the other elements dimensions are based on the inputs and some given parameters:\n",
    "* footRadius = .05\n",
    "* seatHeight = .015\n",
    "* seatBackThickness = .015"
   ]
  },
  {
   "cell_type": "markdown",
   "metadata": {},
   "source": [
    "The rounded top of the chair's legs are obtained by combinating them with a ***SPHERE*** with same radius with which are half intersecated, and the result is the ***VIEW*** of the various elements combined:"
   ]
  },
  {
   "cell_type": "code",
   "execution_count": 10,
   "metadata": {
    "collapsed": true
   },
   "outputs": [],
   "source": [
    "from pyplasm import *\n",
    "\n",
    "def ggpl_chair(dx,dy,dz):\n",
    "\t\"\"\"This function, given the three dimensions dx, dy and dz, \n",
    "\treturns the VIEW of a simple wooden chair.\"\"\"\n",
    "\tchair = []\t\n",
    "\tfootRadius = .05\n",
    "\tseatHeight = .015\n",
    "\tseatBackThickness = .015\n",
    "\tseatBackHeight = dz/6.\n",
    "\tbox = SKEL_1(CUBOID([dx,dy,dz]))\n",
    "\tchair.append(box)\n",
    "\tsupportTop = SPHERE(footRadius)([40,40])\n",
    "\tsupportTop = JOIN(SKEL_1(supportTop))\n",
    "\n",
    "\tfeetModel = [[0 + footRadius,0 + footRadius],[dx - footRadius,0 + footRadius], [dx - footRadius, dy - footRadius], [0 + footRadius, dy - footRadius]]\n",
    "\tsupport = CYLINDER([1.3*footRadius/2.,dy - 2*footRadius])(100)\n",
    "\tsupport = MAP([S1,S3,S2])(support)\n",
    "\tsideSupport = T([1,2,3])([footRadius,footRadius,dz/4. - footRadius])(support)\n",
    "\tsideSupports = [sideSupport, T([1])([dx - 2*footRadius])(sideSupport)]\n",
    "\tsupport = S(1)(.75)(support)\n",
    "\tsupport = T([1,2,3])([footRadius,footRadius,dz/2. - footRadius/2.])(support)\n",
    "\tsupports = [support, T([1])([dx - 2*footRadius])(support)]\n",
    "\t\n",
    "\totherSideSupport = CYLINDER([1.3*footRadius/2.,dx - 2*footRadius])(100)\n",
    "\totherSideSupport = MAP([S1,S3,S2])(otherSideSupport)\n",
    "\totherSideSupport = R([1,2])(-PI/2.)(otherSideSupport)\n",
    "\totherSideSupport = T([1,2,3])([footRadius,footRadius,7*dz/20.])(otherSideSupport)\n",
    "\totherSideSupports = [otherSideSupport, T([2])([dy-2*footRadius])(otherSideSupport)]\n",
    "\t\n",
    "\tseat = CUBOID([dx - 2*footRadius, dy - 2*footRadius, seatHeight])\n",
    "\tseat = T([1,2,3])([footRadius, footRadius, dz/2.-footRadius/2.])(seat)\n",
    "\tchair.append(seat)\n",
    "\tseatBack = CUBOID([dx - 2*footRadius, seatBackThickness, seatBackHeight])\n",
    "\tseatBack = T([1,2,3])([footRadius, footRadius, dz - 2*footRadius - seatBackHeight])(seatBack)\n",
    "\tchair.append(seatBack)\n",
    "\n",
    "\tfor footModel in feetModel:\n",
    "\t\tif(footModel[1] != footRadius):\n",
    "\t\t\tsolidFoot = CYLINDER([footRadius, dz/2.])(100)\n",
    "\t\t\tfootSphere = T([1,2,3])([footModel[0],footModel[1],dz/2.])(supportTop)\n",
    "\t\telse:\n",
    "\t\t\tsolidFoot = CYLINDER([footRadius, dz - footRadius])(100)\n",
    "\t\t\tfootSphere = T([1,2,3])([footModel[0],footModel[1],dz - footRadius])(supportTop)\n",
    "\t\tsolidFoot = T([1,2])([footModel[0],footModel[1]])(solidFoot)\n",
    "\t\tchair.append(solidFoot)\n",
    "\t\tchair.append(footSphere)\n",
    "\n",
    "\tchair = chair + supports + sideSupports + otherSideSupports\n",
    "\tVIEW(COLOR(Color4f([193/255., 154/255., 107/255., 1]))(STRUCT(chair)))"
   ]
  },
  {
   "cell_type": "markdown",
   "metadata": {},
   "source": [
    "# Results"
   ]
  },
  {
   "cell_type": "code",
   "execution_count": null,
   "metadata": {
    "collapsed": true
   },
   "outputs": [],
   "source": []
  }
 ],
 "metadata": {
  "anaconda-cloud": {},
  "kernelspec": {
   "display_name": "Python [default]",
   "language": "python",
   "name": "python2"
  },
  "language_info": {
   "codemirror_mode": {
    "name": "ipython",
    "version": 2
   },
   "file_extension": ".py",
   "mimetype": "text/x-python",
   "name": "python",
   "nbconvert_exporter": "python",
   "pygments_lexer": "ipython2",
   "version": "2.7.12"
  }
 },
 "nbformat": 4,
 "nbformat_minor": 1
}
