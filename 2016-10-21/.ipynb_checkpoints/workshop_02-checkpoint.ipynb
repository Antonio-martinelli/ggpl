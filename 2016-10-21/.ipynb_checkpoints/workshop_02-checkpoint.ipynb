{
 "cells": [
  {
   "cell_type": "markdown",
   "metadata": {},
   "source": [
    "# Parametric building frame in reinforced concrete"
   ]
  },
  {
   "cell_type": "markdown",
   "metadata": {},
   "source": [
    "In this workshop the goal is to write a function that takes in input a string that is the name of a file that contains, on the odd lines, 3D vector positioning the local origin of the next frame with respect to the local origin of the previous one and, on the even lines, the actual parameters of a planar concrete frame."
   ]
  },
  {
   "cell_type": "markdown",
   "metadata": {},
   "source": [
    "The goal frame is shown in the figure below (we are not considering foundations):"
   ]
  },
  {
   "cell_type": "markdown",
   "metadata": {},
   "source": [
    "![Image of the structure](struct.jpg)"
   ]
  },
  {
   "cell_type": "markdown",
   "metadata": {},
   "source": [
    "using this as reference system: ![Image of the rs](rgb.png)"
   ]
  },
  {
   "cell_type": "markdown",
   "metadata": {
    "collapsed": true
   },
   "source": [
    "The program builds continuous pillars successively intersected by beams, so it requires 3D coordinates to start assembling the frames. The following coordinates are given by considering the previous coordinates as the center. The program also requires actual parameters to build the frame, that are beams dimensions, pillar dimensions and distances and interstory heights. Those values are given as an input file that is shown below, having coordinates on odd lines and other parameters on the even rows (with the above enlisted order):"
   ]
  },
  {
   "cell_type": "markdown",
   "metadata": {},
   "source": [
    "```0;0;0\n",
    "(.4,.4);(.8,.8);[-4.,-4.,-4.,-4.,-4.,-4.];[-3,-4,-4,-4,-4,-4]\n",
    "5;0;0\n",
    "(.4,.4);(.8,.8);[-4.,-4.,-4.,-4.,-4.,-4.];[-3,-4,-4,-4,-4,-4]\n",
    "5;0;0\n",
    "(.4,.4);(.8,.8);[-4.,-4.,-4.,-4.,-4.,-4.];[-3,-4,-4,-4,-4,-4]```"
   ]
  },
  {
   "cell_type": "markdown",
   "metadata": {
    "collapsed": true
   },
   "source": [
    "There is a main function ***ggpl_bone_structure*** that takes in input the path of this file as a string, builds each frame reading 2 lines of the file and then the connecting beams:\n"
   ]
  },
  {
   "cell_type": "code",
   "execution_count": 11,
   "metadata": {
    "collapsed": false,
    "scrolled": true
   },
   "outputs": [],
   "source": [
    "def ggpl_bone_structure(file_name):\n",
    "\t\"\"\"This function takes in input a file_name string that is the path of a file that contains 3D coordinates and parameters for a planar frame\n",
    "\tand returns the VIEW of the STRUCT required.\"\"\"\n",
    "\twith open(file_name, 'rb') as file:\n",
    "\t\treader = csv.reader(file, delimiter = ';')\n",
    "\t\tfinalModel = []\n",
    "\t\txCoord = 0\n",
    "\t\tyCoord = 0 \n",
    "\t\tzCoord = 0\n",
    "\t\tfileValues = []\n",
    "\t\trowAcc = 0\n",
    "\t\tfor row in reader:\n",
    "\t\t\trowAcc += 1\n",
    "\t\t\tfileValues.append(row)\n",
    "\t\t\tif(rowAcc == 2):\n",
    "\t\t\t\tbeamlengthY = []\n",
    "\t\t\t\txCoord += float(fileValues[0][0])\n",
    "\t\t\t\tyCoord += float(fileValues[0][1])\n",
    "\t\t\t\tzCoord += float(fileValues[0][2])\n",
    "\t\t\t\tframeModel = buildFrame(make_tuple(fileValues[1][0]), make_tuple(fileValues[1][1]), make_tuple(fileValues[1][2]), make_tuple(fileValues[1][3]))\n",
    "\t\t\t\tframeElement = STRUCT([T(1)(xCoord), T(2)(yCoord), T(3)(zCoord), frameModel])\n",
    "\t\t\t\tfinalModel.append(STRUCT([frameElement]))\n",
    "\t\t\t\trowAcc = 0\n",
    "\t\t\t\tfileValues = []\n",
    "\t\tfinalModel.append(buildBeams(file_name))\n",
    "\t\tVIEW(STRUCT(finalModel))"
   ]
  },
  {
   "cell_type": "markdown",
   "metadata": {},
   "source": [
    "and it finally returns the ***VIEW*** of the ***STRUCT*** builded."
   ]
  },
  {
   "cell_type": "markdown",
   "metadata": {},
   "source": [
    "This function has some support functions, such as an ***intersperse*** function useful to define value vectors for pillars and beams:"
   ]
  },
  {
   "cell_type": "code",
   "execution_count": 3,
   "metadata": {
    "collapsed": true
   },
   "outputs": [],
   "source": [
    "def intersperse(seq, value):\n",
    "    \"\"\"This function intersperse an input list with the input value. If the resultant list has odd length, another given value is appended\n",
    "    intersperse is a function that, given a list and a value, intersperse the list with the value.\"\"\"\n",
    "    res = [value] * (2 * len(seq) - 1)\n",
    "    res[::2] = seq\n",
    "    if (len(res)%2 != 0):\n",
    "        res.append(value)\n",
    "    return res"
   ]
  },
  {
   "cell_type": "markdown",
   "metadata": {},
   "source": [
    "### buildFrame function"
   ]
  },
  {
   "cell_type": "markdown",
   "metadata": {},
   "source": [
    "This function creates each frame as said above by getting its parameters in input:"
   ]
  },
  {
   "cell_type": "code",
   "execution_count": 7,
   "metadata": {
    "collapsed": true
   },
   "outputs": [],
   "source": [
    "def buildFrame(beamDimensions, pillarDimensions, pillarDistances, interstoryHeights):\n",
    "    \"\"\"This function returns an HPC model of a concrete space frame with given beam's and pillar's dimensions, \n",
    "    distances between the pillars, and interstories.\"\"\"\n",
    " \t\n",
    "    pillarDistances = [0] + pillarDistances\n",
    "    linearPillars = intersperse(pillarDistances, pillarDimensions[1])\n",
    "    pillars3D = INSR(PROD)([QUOTE([pillarDimensions[0], -3]),QUOTE(linearPillars), QUOTE(intersperse([-interstory for interstory in interstoryHeights], -beamDimensions[1]))])\n",
    "    horizontalBeamXYAxis = [pillarDimensions[0],-3]\n",
    "    horizontalBeamYYAxis = intersperse([-beam for beam in pillarDistances], pillarDimensions[1])\n",
    "    horizontalBeamYYAxis[0] = -horizontalBeamYYAxis[0]\n",
    "    beamsY3D = INSR(PROD)([QUOTE(horizontalBeamXYAxis), QUOTE(horizontalBeamYYAxis), QUOTE(intersperse(interstoryHeights,beamDimensions[1]))])\n",
    "    frameModel = STRUCT([pillars3D, beamsY3D])\n",
    "    return frameModel"
   ]
  },
  {
   "cell_type": "markdown",
   "metadata": {},
   "source": [
    "and returns a single frame that is then translated by the 3D coordinates read and **appended** to the *finalModel*:"
   ]
  },
  {
   "cell_type": "markdown",
   "metadata": {},
   "source": [
    "![Image of a frame](singleFrame.png)"
   ]
  },
  {
   "cell_type": "markdown",
   "metadata": {},
   "source": [
    "## buildBeams function"
   ]
  },
  {
   "cell_type": "markdown",
   "metadata": {},
   "source": [
    "The last helper function called is *buildBeams(file_name)* that finally connects the frames in the *finalModel* by reading twice the input file:"
   ]
  },
  {
   "cell_type": "code",
   "execution_count": 10,
   "metadata": {
    "collapsed": true
   },
   "outputs": [],
   "source": [
    "def buildBeams(file_name):\n",
    "\t\"\"\"This function returns the beams that connect the frames by reading the input file\"\"\"\n",
    "\twith open(file_name, 'rb') as file:\n",
    "\t\treader = csv.reader(file, delimiter=';')\n",
    "\t\tbeamlengthX = []\n",
    "\t\tfileValues = []\n",
    "\t\trowAcc = 0\n",
    "\t\tfor row in reader:\n",
    "\t\t\trowAcc = rowAcc + 1\n",
    "\t\t\tfileValues.append(row)\n",
    "\t\t\tif(rowAcc == 2):\n",
    "\t\t\t\tif(float(fileValues[0][0]) == 0):\n",
    "\t\t\t\t\tbeamlengthX.append(-(make_tuple(fileValues[1][1])[0]))\n",
    "\t\t\t\telse:\n",
    "\t\t\t\t\tbeamlengthX.append(float(fileValues[0][0])-make_tuple(fileValues[1][1])[0])\n",
    "\t\t\t\t\tbeamlengthX.append(-(make_tuple(fileValues[1][1])[0]))\n",
    "\t\t\t\trowAcc = 0\n",
    "\t\t\t\tfileValues = []\n",
    "\twith open(file_name, 'rb') as file:\n",
    "\t\treader = csv.reader(file, delimiter=';')\n",
    "\t\tbeamlengthY = []\n",
    "\t\tbeamlengthZ = []\n",
    "\t\tfileValues = []\n",
    "\t\trowAcc = 0\n",
    "\t\tfor row in reader:\n",
    "\t\t\tbeamlengthY = []\n",
    "\t\t\trowAcc += 1\n",
    "\t\t\tfileValues.append(row)\n",
    "\t\t\tif(rowAcc == 2):\n",
    "\t\t\t\tbeamlengthZ = intersperse(make_tuple(row[3]), make_tuple(row[0])[1])\n",
    "\t\t\t\tbeamlengthY.append(make_tuple(fileValues[1][1])[0])\n",
    "\t\t\t\tfor element in make_tuple(fileValues[1][2]):\n",
    "\t\t\t\t\tbeamlengthY.append(element)\n",
    "\t\t\t\t\tbeamlengthY.append(make_tuple(fileValues[1][1])[0])\n",
    "\t\t\t\trowAcc = 0\n",
    "\t\t\t\tfileValues = []\n",
    "\treturn INSR(PROD)([QUOTE(beamlengthX), QUOTE(beamlengthY), QUOTE(beamlengthZ)])"
   ]
  },
  {
   "cell_type": "markdown",
   "metadata": {},
   "source": [
    "The *return* of this function is then appended to the *finalModel* and then the last line of the ***ggpl_bone_structure***:"
   ]
  },
  {
   "cell_type": "markdown",
   "metadata": {},
   "source": [
    "    VIEW(STRUCT(finalModel))"
   ]
  },
  {
   "cell_type": "markdown",
   "metadata": {},
   "source": [
    "that gives this result: ![Image of the result](result.png)"
   ]
  }
 ],
 "metadata": {
  "anaconda-cloud": {},
  "kernelspec": {
   "display_name": "Python [default]",
   "language": "python",
   "name": "python2"
  },
  "language_info": {
   "codemirror_mode": {
    "name": "ipython",
    "version": 2
   },
   "file_extension": ".py",
   "mimetype": "text/x-python",
   "name": "python",
   "nbconvert_exporter": "python",
   "pygments_lexer": "ipython2",
   "version": "2.7.12"
  }
 },
 "nbformat": 4,
 "nbformat_minor": 1
}
