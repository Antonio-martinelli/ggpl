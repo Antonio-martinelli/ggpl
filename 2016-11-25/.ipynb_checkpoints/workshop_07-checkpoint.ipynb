{
 "cells": [
  {
   "cell_type": "markdown",
   "metadata": {},
   "source": [
    "# Design for modern doors and windows"
   ]
  },
  {
   "cell_type": "markdown",
   "metadata": {},
   "source": [
    "The goal in this workshop is to define two different functions to build respectively a door and a window, with some parameters in input."
   ]
  },
  {
   "cell_type": "markdown",
   "metadata": {},
   "source": [
    "The model which inspired the representation are shown below:\n",
    "## The door\n",
    "![First model](door.jpg)\n",
    "## The window\n",
    "![Second model](window.jpg)"
   ]
  },
  {
   "cell_type": "markdown",
   "metadata": {},
   "source": [
    "## Variables"
   ]
  },
  {
   "cell_type": "markdown",
   "metadata": {},
   "source": [
    "Taking the door as example there are four main sets of variables, as we can see in the following example (these are not all real variabile used in the workshop):\n",
    "\n",
    "   * X: an array of distances on X-axis, relative distance calculated on the previous point\n",
    "           [.2,.5,.2,1.8,.08,.18,.08,.18,.2]\n",
    "\n",
    "   * Y: an array of distances on Y-axis, relative distance calculated on the previous point\n",
    "           [.2,.18,.08,.18,.08,.18,.4,.18,.08,.18,.08,.18,.2]\n",
    "   * occurency: array of occurrences defining which cells are empty and which are filled according to cells driven representation\n",
    "            [[True, True, True], [True, False, False], [True, False, True], [True, False, True], [True, False, True]]\n",
    "   * dx, dy, dz: desired dimensions of the object that needs to be generated\n",
    "            1.8, .2, 3"
   ]
  },
  {
   "cell_type": "markdown",
   "metadata": {},
   "source": [
    "## The method"
   ]
  },
  {
   "cell_type": "markdown",
   "metadata": {},
   "source": [
    "The variables are bound between them, in fact the arrays ***X*** and ***Y*** determine a cell in the structure, which is flagged from the ***occurrency*** matrix with True if that cell must be filled or False if it must not, that result as the \"glass space\" for our models. So by iterating over the matrix we save which cell will be full and give it dimensions. Then the model is ***scaled*** using ***dx, dy, dz***, which represent the desired dimensions.\n",
    "Finally is given some colours and details to the model to make it more realistic."
   ]
  },
  {
   "cell_type": "code",
   "execution_count": 1,
   "metadata": {
    "collapsed": true
   },
   "outputs": [],
   "source": [
    "def door(doorX,doorY,occurrency):\n",
    "\n",
    "\tdef door0(dx,dy,dz):\n",
    "\n",
    "\t\tmodel = []\n",
    "\n",
    "\t\tfor xIndex in range(len(doorX)):\n",
    "\t\t\tyQuotes = []\n",
    "\t\t\txSum = sum(doorX[:xIndex])\n",
    "\t\t\tfor yIndex in range(len(doorY)):\n",
    "\t\t\t\tif(occurrency[xIndex][yIndex] == False):\n",
    "\t\t\t\t\tyQuotes.append(-doorY[yIndex])\n",
    "\t\t\t\telse:\n",
    "\t\t\t\t\tyQuotes.append(doorY[yIndex])\n",
    "\t\t\tmodel.append(PROD([ QUOTE([-xSum, doorX[xIndex]]), QUOTE(yQuotes)]))\n",
    "\n",
    "\t\tres = PROD([STRUCT(model), Q(dy)])\n",
    "\t\tres = MAP([S2,S3,S1])(res)\n",
    "\t\tres = S([1,2,3])([dx/SIZE([1])(res)[0], dy/SIZE([2])(res)[0], dz/SIZE([3])(res)[0]]) (res)\n",
    "\n",
    "\t\tdoor = TEXTURE([\"wood.jpg\", True, False, 1, 1, 0, 1, 1])(STRUCT([res]))\n",
    "\n",
    "\t\tglass = CUBOID([SIZE([1])(res)[0]*0.94, 0.01, SIZE([3])(res)[0]*0.94])\n",
    "\t\tglass = T([1,2,3])([dx*0.003, dy/2, dz*0.005])(glass)\n",
    "\t\tglass = TEXTURE([\"glass.jpg\"])(glass)\n",
    "\n",
    "\t\trefiner = CUBOID([0.03, 0.01,dz])\n",
    "\t\trefiner = T([1,2])([dx/2,dy])(refiner)\n",
    "\t\trefiner = TEXTURE([\"wood.jpg\", True, False, 1, 1, 0, 1, 1])(refiner)\n",
    "\n",
    "\t\thandler1 = T(3)(.15)(CUBOID([.05,.02,.2]))\n",
    "\t\thandler2 = CUBOID([.05,.02,.05])\n",
    "\t\thandler3 = T([1,2])([.01,.02])(CUBOID([.03,.02,.2]))\n",
    "\t\thandler = TEXTURE(\"bronze.jpg\")(STRUCT([handler3, handler2, handler1]))\n",
    "\t\thandler = T([1,2,3])([dx/2.-2*SIZE([1])(handler)[0],dy, dz/2.-1.5*SIZE([3])(handler)[0]])(handler)\n",
    "\n",
    "\t\tfinalDoor = S([1,2,3])([dx/SIZE([1])(res)[0], dy/SIZE([2])(res)[0], dz/SIZE([3])(res)[0]]) (STRUCT([door, glass, refiner, handler]))\n",
    "\n",
    "\t\treturn finalDoor\n",
    "\n",
    "\treturn door0"
   ]
  },
  {
   "cell_type": "markdown",
   "metadata": {},
   "source": [
    "## The result"
   ]
  },
  {
   "cell_type": "markdown",
   "metadata": {},
   "source": [
    "The images below show the result by launching the function ***door(doorX,doorY,occurrency)*** with different values:\n",
    "\n",
    "### First execution:\n",
    "\n",
    "* doorX = [.2,.5,.2,1.8,.08,.18,.08,.18,.2]\n",
    "* doorY = [.2,.18,.08,.18,.08,.18,.4,.18,.08,.18,.08,.18,.2]\n",
    "* doorOccurrency = [[True]*13,\n",
    "    [True, False, True, False, True, False, True, False, True, False, True, False, True],\n",
    "\t[True]*13,\n",
    "\t[True, False, True, False, True, False, True, False, True, False, True, False, True],\n",
    "\t[True, False, True, False, True, True, True, True, True, False, True, False, True],\n",
    "\t[True, False, True, False, False, False, True, False, False, False, True, False, True],\n",
    "\t[True, False, True, True, True, True, True, True, True, True, True, False, True],\n",
    "\t[True, False, False, False, False, False, True, False, False, False, False, False, True],\n",
    "\t[True]*13]\n",
    "* dx, dy, dz = 1.8, .2, 3\n",
    "![First door](first_door.png)"
   ]
  },
  {
   "cell_type": "markdown",
   "metadata": {},
   "source": [
    "### Second execution\n",
    "\n",
    "* doorX = [.2,.5,.2,1.8,.08,.18,.08,.18,.2]\n",
    "* doorY = [.2,.18,.08,.18,.08,.18,.4,.18,.08,.18,.08,.18,.2]\n",
    "* doorOccurrency = [[True]*13,\n",
    "    [True, False, True, False, True, False, True, False, True, False, True, False, True],\n",
    "\t[True]*13,\n",
    "\t[True, False, True, False, True, False, True, False, True, False, True, False, True],\n",
    "\t[True, False, True, False, True, True, True, True, True, False, True, False, True],\n",
    "\t[True, False, True, False, False, False, True, False, False, False, True, False, True],\n",
    "\t[True, False, True, True, True, True, True, True, True, True, True, False, True],\n",
    "\t[True, False, False, False, False, False, True, False, False, False, False, False, True],\n",
    "\t[True]*13]\n",
    "* dx, dy, dz = 2.2, .4, 2.8\n",
    "![Second door](second_door.png)"
   ]
  }
 ],
 "metadata": {
  "anaconda-cloud": {},
  "kernelspec": {
   "display_name": "Python [default]",
   "language": "python",
   "name": "python2"
  },
  "language_info": {
   "codemirror_mode": {
    "name": "ipython",
    "version": 2
   },
   "file_extension": ".py",
   "mimetype": "text/x-python",
   "name": "python",
   "nbconvert_exporter": "python",
   "pygments_lexer": "ipython2",
   "version": "2.7.12"
  }
 },
 "nbformat": 4,
 "nbformat_minor": 1
}
