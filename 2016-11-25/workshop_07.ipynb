{
 "cells": [
  {
   "cell_type": "markdown",
   "metadata": {},
   "source": [
    "# Design for modern doors and windows"
   ]
  },
  {
   "cell_type": "markdown",
   "metadata": {},
   "source": [
    "The goal in this workshop is to define two different functions to build respectively a door and a window, with some parameters in input."
   ]
  },
  {
   "cell_type": "markdown",
   "metadata": {},
   "source": [
    "The model which inspired the representation are shown below:\n",
    "## The door\n",
    "![First model](door.jpg)\n",
    "## The window\n",
    "![Second model](window.jpg)"
   ]
  },
  {
   "cell_type": "markdown",
   "metadata": {},
   "source": [
    "## Variables"
   ]
  },
  {
   "cell_type": "markdown",
   "metadata": {},
   "source": [
    "Taking the door as example there are four main sets of variables, as we can see in the following example (these are not all real variabile used in the workshop):\n",
    "\n",
    "   * X: an array of distances on X-axis, relative distance calculated on the previous point\n",
    "           [.2,.5,.2,1.8,.08,.18,.08,.18,.2]\n",
    "\n",
    "   * Y: an array of distances on Y-axis, relative distance calculated on the previous point\n",
    "           [.2,.18,.08,.18,.08,.18,.4,.18,.08,.18,.08,.18,.2]\n",
    "   * occurency: array of occurrences defining which cells are empty and which are filled according to cells driven representation\n",
    "            [[True, True, True], [True, False, False], [True, False, True], [True, False, True], [True, False, True]]\n",
    "   * dx, dy, dz: desired dimensions of the object that needs to be generated\n",
    "            1.8, .2, 3\n",
    "            \n",
    "The same variables work for the function that creates the windows."
   ]
  },
  {
   "cell_type": "markdown",
   "metadata": {},
   "source": [
    "## The method"
   ]
  },
  {
   "cell_type": "markdown",
   "metadata": {},
   "source": [
    "The variables are bound between them, in fact the arrays ***X*** and ***Y*** determine a cell in the structure, which is flagged from the ***occurrency*** matrix with True if that cell must be filled or False if it must not, that result as the \"glass space\" for our models. So by iterating over the matrix we save which cell will be full and give it dimensions. Then the model is ***scaled*** using ***dx, dy, dz***, which represent the desired dimensions.\n",
    "Finally is given some colours and details to the model to make it more realistic."
   ]
  },
  {
   "cell_type": "code",
   "execution_count": 6,
   "metadata": {
    "collapsed": true
   },
   "outputs": [],
   "source": [
    "def door(doorX, doorY, occurrency):\n",
    "\t\"\"\"This function takes in input three array, X, Y and occurrency and returns the HPC model of the door\n",
    "\tgenerated according to the three parameters. X and Y contain values of distances calculated on the previous \n",
    "\tsegment of the axis. Occurrency is a matrix containing booleans that map which cell is empty and which cell is filled. \n",
    "\tThe inner function is useful for scaling the resulting door by the three parameter dx, dy, dz.\"\"\"\n",
    "\tdef door0(dx, dy, dz):\n",
    "\n",
    "\t\tmodel = []\n",
    "\n",
    "\t\tfor xIndex in range(len(doorX)):\n",
    "\t\t\tyQuotes = []\n",
    "\t\t\txSum = sum(doorX[:xIndex])\n",
    "\t\t\tfor yIndex in range(len(doorY)):\n",
    "\t\t\t\tif(occurrency[xIndex][yIndex] == False):\n",
    "\t\t\t\t\tyQuotes.append(-doorY[yIndex])\n",
    "\t\t\t\telse:\n",
    "\t\t\t\t\tyQuotes.append(doorY[yIndex])\n",
    "\t\t\tmodel.append(PROD([ QUOTE([-xSum, doorX[xIndex]]), QUOTE(yQuotes)]))\n",
    "\n",
    "\t\tres = PROD([STRUCT(model), Q(dy)])\n",
    "\t\tres = MAP([S2,S3,S1])(res)\n",
    "\t\tres = S([1,2,3])([dx/SIZE([1])(res)[0], dy/SIZE([2])(res)[0], dz/SIZE([3])(res)[0]]) (res)\n",
    "\n",
    "\t\tdoor = TEXTURE([\"wood.jpg\", True, False, 1, 1, 0, 1, 1])(STRUCT([res]))\n",
    "\n",
    "\t\tglass = CUBOID([SIZE([1])(res)[0]*0.94, 0.01, SIZE([3])(res)[0]*0.94])\n",
    "\t\tglass = T([1,2,3])([dx*0.003, dy/2, dz*0.005])(glass)\n",
    "\t\tglass = TEXTURE([\"glass.jpg\"])(glass)\n",
    "\n",
    "\t\trefiner = CUBOID([0.03, 0.01,dz])\n",
    "\t\trefiner = T([1,2])([dx/2,dy])(refiner)\n",
    "\t\trefiner = TEXTURE([\"wood.jpg\", True, False, 1, 1, 0, 1, 1])(refiner)\n",
    "\n",
    "\t\thandler1 = T(3)(.15)(CUBOID([.05,.02,.2]))\n",
    "\t\thandler2 = CUBOID([.05,.02,.05])\n",
    "\t\thandler3 = T([1,2])([.01,.02])(CUBOID([.03,.02,.2]))\n",
    "\t\thandler = TEXTURE(\"bronze.jpg\")(STRUCT([handler3, handler2, handler1]))\n",
    "\t\thandler = T([1,2,3])([dx/2.-2*SIZE([1])(handler)[0],dy, dz/2.-1.5*SIZE([3])(handler)[0]])(handler)\n",
    "\n",
    "\t\tfinalDoor = S([1,2,3])([dx/SIZE([1])(res)[0], dy/SIZE([2])(res)[0], dz/SIZE([3])(res)[0]]) (STRUCT([door, glass, refiner, handler]))\n",
    "\n",
    "\t\treturn finalDoor\n",
    "\n",
    "\treturn door0\n"
   ]
  },
  {
   "cell_type": "markdown",
   "metadata": {},
   "source": [
    "For the code regarding the window, I use a support function ***resizeXY*** which takes in input X, Y,occurrency and two dimensions dx, dz and scales the values contained in X and Y, in such a way that only empty spaces are scaled and filled spaces are mantained fixed."
   ]
  },
  {
   "cell_type": "code",
   "execution_count": 4,
   "metadata": {
    "collapsed": true
   },
   "outputs": [],
   "source": [
    "def resizeXY(X, Y, occurrency, dx, dz):\n",
    "\t\"\"\"This function takes in input X,Y,occurrency, two dimensions dx, dz and scales the values\n",
    "\tcontained in X and Y, in such a way that only empty spaces are scaled and filled spaces are mantained fixed\"\"\"\n",
    "\tsumY = sum(Y) \n",
    "\tsumX = sum(X)\n",
    "\tvisitedY = [False]*len(Y)\n",
    "\tfor y_index in range(len(Y)):\n",
    "\t\tupdate = True\n",
    "\t\tfor x_index in range(len(X)):\n",
    "\t\t\tif(occurrency[x_index][y_index] == False):\n",
    "\t\t\t\tupdate = False \n",
    "\t\tif(update):\n",
    "\t\t\tsumY = sumY - Y[y_index]\n",
    "\t\t\tsumX = sumX - X[y_index]\n",
    "\t\t\tdx = dx - X[y_index]\n",
    "\t\t\tdz = dz - Y[y_index]\n",
    "\n",
    "\tfor x_index in range(len(X)):\n",
    "\t\tmodifyX = False\n",
    "\t\tfor y_index in range(len(Y)):\n",
    "\t\t\tif(occurrency[x_index][y_index] == False and visitedY[y_index] == False):\n",
    "\t\t\t\tY[y_index] = (dz * Y[y_index])/sumY\n",
    "\t\t\t\tvisitedY[y_index] = True\n",
    "\t\t\t\tmodifyX = True\n",
    "\t\t\tif(occurrency[x_index][y_index] == False and visitedY[y_index] == True and not modifyX):\n",
    "\t\t\t\tmodifyX = True\n",
    "\t\tif(modifyX):\n",
    "\t\t\tX[x_index] = (dx * X[x_index])/sumX"
   ]
  },
  {
   "cell_type": "markdown",
   "metadata": {},
   "source": [
    "After the resize the function ***window*** builds the model leaving empty space for the glass as reported in the ***occurrency*** matrix. The result is texturized and assembled in a ***STRUCT*** with a glass-like ***CUBOID*** and the model is returned as output:"
   ]
  },
  {
   "cell_type": "code",
   "execution_count": 5,
   "metadata": {
    "collapsed": true
   },
   "outputs": [],
   "source": [
    "def window(windowX, windowY, occurrency):\n",
    "\t\"\"\"This function, given three array, X, Y and occurrency, return the HPC model of the window\n",
    "\tgenerated according to the three parameters. X and Y contain values of distances calculated on the previous \n",
    "\tsegment of the axis. Occurrency is a matrix containing booleans that map which cell is empty and which cell is filled. \n",
    "\tThe inner function is useful for 'scaling'\"\"\"\n",
    "\tdef window0(dx, dy, dz):\n",
    "\n",
    "\t\tresizeXY(windowX,windowY,occurrency, dx, dz)\n",
    "\n",
    "\t\tmodel = []\n",
    "\t\tfor xIndex in range(len(windowX)):\n",
    "\t\t\tyQuotes = []\n",
    "\t\t\txSum = sum(windowX[:xIndex])\n",
    "\t\t\tfor yIndex in range(len(windowY)):\n",
    "\t\t\t\tif(occurrency[xIndex][yIndex] == False):\n",
    "\t\t\t\t\tyQuotes.append(-windowY[yIndex])\n",
    "\t\t\t\telse:\n",
    "\t\t\t\t\tyQuotes.append(windowY[yIndex])\n",
    "\t\t\tmodel.append(PROD([QUOTE([-xSum, windowX[xIndex]]), QUOTE(yQuotes)]))\n",
    "\n",
    "\t\tresult = STRUCT(model)\n",
    "\t\tresult = MAP([S2,S3,S1])(PROD([result, Q(dy)]))\n",
    "\t\twindowFrame = STRUCT([result])\n",
    "\t\twindowFrame = TEXTURE([\"iron.jpg\"])(windowFrame)\n",
    "\n",
    "\t\tglass = CUBOID([SIZE([1])(result)[0]*0.98,0.001,SIZE([3])(result)[0]*0.95])\n",
    "\t\tglass = T([1,2,3])([dx*0.005, dy/2, 0.01])(glass)\n",
    "\t\tglass = TEXTURE([\"glass2.jpg\"])(glass) \n",
    "\n",
    "\t\twindow = STRUCT([windowFrame, glass])\n",
    "\t\twindow = S([1,2,3])([dx/SIZE([1])(window)[0], dy/SIZE([2])(window)[0], dz/SIZE([3])(window)[0]])(window)\n",
    "\t\t\n",
    "\t\treturn window\n",
    "\n",
    "\treturn window0\n"
   ]
  },
  {
   "cell_type": "markdown",
   "metadata": {},
   "source": [
    "## The result"
   ]
  },
  {
   "cell_type": "markdown",
   "metadata": {},
   "source": [
    "## Door\n",
    "The images below show the result by launching the function ***door(doorX,doorY,occurrency)*** with different values:\n",
    "\n",
    "### First execution:\n",
    "\n",
    "* doorX = [.2,.5,.2,1.8,.08,.18,.08,.18,.2]\n",
    "* doorY = [.2,.18,.08,.18,.08,.18,.4,.18,.08,.18,.08,.18,.2]\n",
    "* doorOccurrency = [[True]*13,\n",
    "    [True, False, True, False, True, False, True, False, True, False, True, False, True],\n",
    "\t[True]*13,\n",
    "\t[True, False, True, False, True, False, True, False, True, False, True, False, True],\n",
    "\t[True, False, True, False, True, True, True, True, True, False, True, False, True],\n",
    "\t[True, False, True, False, False, False, True, False, False, False, True, False, True],\n",
    "\t[True, False, True, True, True, True, True, True, True, True, True, False, True],\n",
    "\t[True, False, False, False, False, False, True, False, False, False, False, False, True],\n",
    "\t[True]*13]\n",
    "* dx, dy, dz = 1.8, .2, 3\n",
    "![First door](first_door.png)"
   ]
  },
  {
   "cell_type": "markdown",
   "metadata": {},
   "source": [
    "### Second execution\n",
    "\n",
    "* doorX = [.2,.5,.2,1.8,.08,.18,.08,.18,.2]\n",
    "* doorY = [.2,.18,.08,.18,.08,.18,.4,.18,.08,.18,.08,.18,.2]\n",
    "* doorOccurrency = [[True]*13,\n",
    "    [True, False, True, False, True, False, True, False, True, False, True, False, True],\n",
    "\t[True]*13,\n",
    "\t[True, False, True, False, True, False, True, False, True, False, True, False, True],\n",
    "\t[True, False, True, False, True, True, True, True, True, False, True, False, True],\n",
    "\t[True, False, True, False, False, False, True, False, False, False, True, False, True],\n",
    "\t[True, False, True, True, True, True, True, True, True, True, True, False, True],\n",
    "\t[True, False, False, False, False, False, True, False, False, False, False, False, True],\n",
    "\t[True]*13]\n",
    "* dx, dy, dz = 2.2, .4, 2.8\n",
    "![Second door](second_door.png)"
   ]
  },
  {
   "cell_type": "markdown",
   "metadata": {},
   "source": [
    "## Window\n",
    "Here are shown the results obtained by a ***VIEW*** of the function ***window(windowX, windowY, occurrency)***:\n",
    "\n",
    "### First execution:\n",
    "\n",
    "* windowY = [0.04,0.04,0.2,0.02,0.16,0.02,0.2,0.04,0.04]\n",
    "* windowX = [0.02,0.8,0.05,0.02,0.4,0.02,0.4,0.05,0.04]\n",
    "* windowOccurrency = [[True]*9,\n",
    "\t[True, False, False, False, False, False, False, False, True],\n",
    "\t[True]*9,\n",
    "\t[True]*9,\n",
    "\t[True, True, False, True, False, True, False, True, True],\n",
    "    [True]*9,\n",
    "    [True, True, False, True, False, True, False, True, True],\n",
    "    [True]*9,\n",
    "\t[True]*9]\n",
    "* dx, dy, dz = 0.8,.05,1\n",
    "![First window](first_window.png)"
   ]
  },
  {
   "cell_type": "markdown",
   "metadata": {},
   "source": [
    "### Second execution\n",
    "\n",
    "* windowY = [0.04,0.04,0.2,0.02,0.16,0.02,0.2,0.04,0.04]\n",
    "* windowX = [0.02,0.8,0.05,0.02,0.4,0.02,0.4,0.05,0.04]\n",
    "* windowOccurrency = [[True]*9,\n",
    "\t[True, False, False, False, False, False, False, False, True],\n",
    "\t[True]*9,\n",
    "\t[True]*9,\n",
    "\t[True, True, False, True, False, True, False, True, True],\n",
    "    [True]*9,\n",
    "    [True, True, False, True, False, True, False, True, True],\n",
    "    [True]*9,\n",
    "\t[True]*9]\n",
    "* dx, dy, dz = 0.6,0.1,1.2\n",
    "![Second window](second_window.png)"
   ]
  }
 ],
 "metadata": {
  "anaconda-cloud": {},
  "kernelspec": {
   "display_name": "Python [default]",
   "language": "python",
   "name": "python2"
  },
  "language_info": {
   "codemirror_mode": {
    "name": "ipython",
    "version": 2
   },
   "file_extension": ".py",
   "mimetype": "text/x-python",
   "name": "python",
   "nbconvert_exporter": "python",
   "pygments_lexer": "ipython2",
   "version": "2.7.12"
  }
 },
 "nbformat": 4,
 "nbformat_minor": 1
}
