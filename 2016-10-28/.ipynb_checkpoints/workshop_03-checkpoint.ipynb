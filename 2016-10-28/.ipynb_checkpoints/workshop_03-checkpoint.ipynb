{
 "cells": [
  {
   "cell_type": "markdown",
   "metadata": {},
   "source": [
    "# U Shaped Stairs"
   ]
  },
  {
   "cell_type": "markdown",
   "metadata": {},
   "source": [
    "In this workshop the goal is to generate stairs from input dimensions `(dx, dy, dz)` with the function\n",
    "\n",
    "```ggpl_u_shaped_stairs(dx, dy, dz)```"
   ]
  },
  {
   "cell_type": "markdown",
   "metadata": {},
   "source": [
    "## The study case"
   ]
  },
  {
   "cell_type": "markdown",
   "metadata": {},
   "source": [
    "The stairs taken as model for the workshop are listed in [this page](https://www.keuka-studios.com/types-of-stairs/) and in particular I choose the U shaped one: ![Study case stairs](https://www.keuka-studios.com/wp-content/uploads/2015/02/U-shaped-stairs-2.jpg)"
   ]
  },
  {
   "cell_type": "markdown",
   "metadata": {},
   "source": [
    "Here is also an image of this type of stair represented in the reality: ![Real stairs example](real_stairs.jpg)"
   ]
  },
  {
   "cell_type": "markdown",
   "metadata": {},
   "source": [
    "## My variables"
   ]
  },
  {
   "cell_type": "markdown",
   "metadata": {},
   "source": [
    "* ```wallThickness```: a fixed dimension for the thickness of the walls on which relies the stairs\n",
    "* ```riser``` : a fixed dimension for the stairs riser\n",
    "* ```stairsHeight``` : the height of each ramp\n",
    "* ```stepNumbers``` : the number of each ramp's steps\n",
    "* ```tread``` : the tread of each step\n",
    "* ```lengthOfFlight``` : the length of each ramp's flight\n",
    "* ```platformX``` : the intermediate platform's width\n",
    "* ```stairsX``` : the width of each ramp"
   ]
  },
  {
   "cell_type": "markdown",
   "metadata": {},
   "source": [
    "## The geometric method"
   ]
  },
  {
   "cell_type": "markdown",
   "metadata": {},
   "source": [
    "To reach my goal I fixed 2 of those variabiles and then derived the other ones: in particular I fixed `wallThickness` and `riser`."
   ]
  },
  {
   "cell_type": "markdown",
   "metadata": {},
   "source": [
    "Then I get the `stairsHeight` from the input `dz`, the `stepNumbers` from the rounding of `stairsHeight` and `riser`.\n",
    "The `tread` values is calculated by division of `dy` (depth of the room) with `stepNumbers+4`, considering the platform depth as 4 steps.\n",
    "The the `lengthOfFlight` is derived from `tread` and `stepNumbers`, while the X dimension for platform and stairs are calculated considering the `wallThickness`.\n",
    "For more clarity the code snippet is shown below:"
   ]
  },
  {
   "cell_type": "markdown",
   "metadata": {},
   "source": [
    "    stairsHeight = dz / 2.0\n",
    "    stepNumbers = math.ceil(stairsHeight / riser)\n",
    "    tread = dy / (stepNumbers+4)\n",
    "    lengthOfFlight = tread * stepNumbers\n",
    "    platformX = dx - (wallThickness*2.0)\n",
    "    stairsX = (dx/2.0) - wallThickness"
   ]
  },
  {
   "cell_type": "markdown",
   "metadata": {},
   "source": [
    "## The code"
   ]
  },
  {
   "cell_type": "markdown",
   "metadata": {},
   "source": [
    "The support function ```generate_steps(stepNumber, tread, riser, stepWidth)``` generates a first normal 2D step and a a series of `stepNumbers-1` down-linked steps:"
   ]
  },
  {
   "cell_type": "code",
   "execution_count": 4,
   "metadata": {
    "collapsed": true
   },
   "outputs": [],
   "source": [
    "def generate_steps(stepNumber, tread, riser, stepWidth):\n",
    "    \"\"\"\n",
    "\tgenerate_steps is a function that, given a stepNumber, a tread, a riser and a stepWidth returns a list of steps.\n",
    "\n",
    "\t@param stepNumber: number of the steps\n",
    "\t@param tread: number that represents the step's depth\n",
    "\t@param riser: number that represent the height of a single step\n",
    "\t@param stepWidth: the width of the ramp\n",
    "\t@return steps: a list that contains all the steps.\n",
    "\t\"\"\"\n",
    "    step2d = MKPOL([[[tread, 0],[tread, riser*2], [tread*2, riser*2], [tread*2, riser]], [[1,2,3,4]], None])\n",
    "    steps = []\n",
    "    firstStep2d = CUBOID([stepWidth,tread])\n",
    "    firstStep = PROD([firstStep2d, QUOTE([riser])])\n",
    "    steps.append(firstStep)\n",
    "    for i in range(int(stepNumber-1)):\n",
    "        steps.append(T([2,3])([(tread*i), riser*i])(PROD([Q(stepWidth), step2d])))\n",
    " \n",
    "    return steps"
   ]
  },
  {
   "cell_type": "markdown",
   "metadata": {},
   "source": [
    "This function is used to build the 2 ramps and then the main function builds the walls and the middle platform. Then the resulting structure is joined togheter and wrapped within a `BOX` that is created from a `CUBOID` that has input dimensions:"
   ]
  },
  {
   "cell_type": "code",
   "execution_count": 6,
   "metadata": {
    "collapsed": true
   },
   "outputs": [],
   "source": [
    "def ggpl_u_shaped_stairs(dx, dy, dz):\n",
    "    wallThickness = 0.3\n",
    "    riser = 0.2\n",
    "    stairsHeight = dz / 2.0\n",
    "    stepNumbers = math.ceil(stairsHeight / riser)\n",
    "    tread = dy / (stepNumbers+4)\n",
    "    lengthOfFlight = tread * stepNumbers\n",
    "    platformX = dx - (wallThickness*2.0)\n",
    "    stairsX = (dx/2.0) - wallThickness\n",
    "    firstStairs = generate_steps(stepNumbers, tread, riser, stairsX)\n",
    "    secondStairs = generate_steps(stepNumbers, tread, riser, stairsX)[1:]\n",
    "    lastStep2d = MKPOL([[[tread, 0],[tread, riser*2], [tread*2, riser*2], [tread*2, riser]], [[1,2,3,4]], None])\n",
    "    lastStep = T([2,3])([(tread*(stepNumbers-1.0)), riser*(stepNumbers-1.0)])(PROD([Q(stairsX), lastStep2d]))\n",
    "    secondStairs.append(lastStep)\n",
    "    secondStairs = R([1,2])(PI)(STRUCT(secondStairs))\n",
    "    secondStairs = T([1,2,3])([platformX+wallThickness,tread+lengthOfFlight,stairsHeight-riser])(secondStairs)\n",
    "    \n",
    "    stairs = STRUCT(firstStairs)\n",
    "\n",
    "    stairs = T(1)([wallThickness])(stairs)\n",
    "    platform = CUBOID([platformX, (tread*4) - wallThickness, riser])\n",
    "    firstWall = CUBOID([wallThickness, dy, dz])\n",
    "    secondWall = CUBOID([dx - (wallThickness*2), wallThickness, dz])\n",
    "    secondWall = T([1,2])([wallThickness, dy - wallThickness])(secondWall)\n",
    "    thirdWall = CUBOID([wallThickness, dy, dz])\n",
    "    thirdWall = T([1])([dx - wallThickness])(thirdWall)\n",
    "    traslatedPlatform = T([1,2,3])([wallThickness, tread*stepNumbers, riser*stepNumbers-riser])(platform)\n",
    "   \n",
    "    result = STRUCT([firstWall, secondWall, thirdWall, stairs, traslatedPlatform, secondStairs])\n",
    "    box = SKEL_1(BOX([1,2,3])(CUBOID([dx, dy, dz])))\n",
    "    return STRUCT([result, box]) \n"
   ]
  },
  {
   "cell_type": "markdown",
   "metadata": {},
   "source": [
    "# Results"
   ]
  },
  {
   "cell_type": "code",
   "execution_count": null,
   "metadata": {
    "collapsed": true
   },
   "outputs": [],
   "source": []
  }
 ],
 "metadata": {
  "anaconda-cloud": {},
  "kernelspec": {
   "display_name": "Python [default]",
   "language": "python",
   "name": "python2"
  },
  "language_info": {
   "codemirror_mode": {
    "name": "ipython",
    "version": 2
   },
   "file_extension": ".py",
   "mimetype": "text/x-python",
   "name": "python",
   "nbconvert_exporter": "python",
   "pygments_lexer": "ipython2",
   "version": "2.7.12"
  }
 },
 "nbformat": 4,
 "nbformat_minor": 1
}
