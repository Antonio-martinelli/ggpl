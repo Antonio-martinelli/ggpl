{
 "cells": [
  {
   "cell_type": "markdown",
   "metadata": {},
   "source": [
    "# Design of a parametric multy-storey cottage"
   ]
  },
  {
   "cell_type": "markdown",
   "metadata": {},
   "source": [
    "In this workshop I used previous workshops and plugins to assemble a multy-storey house, giving an input model with reinvented internal map for the different floors. Here is the example used to inspire the plant of the house (which is a bit different from the models generated to show the parametric behavior of the workshop.\n",
    "![Model](images/model.jpg)"
   ]
  },
  {
   "cell_type": "markdown",
   "metadata": {},
   "source": [
    "## Changes to previous plugins"
   ]
  },
  {
   "cell_type": "markdown",
   "metadata": {},
   "source": [
    "To reach my goal, I had to adapt a little the previous workshops to grant a better representation of the model.\n",
    "Here are described the modifications applied:"
   ]
  },
  {
   "cell_type": "markdown",
   "metadata": {},
   "source": [
    "**Workshop_03**\n",
    "\n",
    "I had to rewrite this plugin by zero because the bad implementation wouldn't have fitted the height of the various floor properly so I generated a basic stair model to fit in better."
   ]
  },
  {
   "cell_type": "markdown",
   "metadata": {},
   "source": [
    "**Workshop_07**\n",
    "\n",
    "This workshop had removed a subfunction to resize better the glass cells respect to the frame cells of output model because for the different scale we are working with that was finding problem so I had a better output without this support function."
   ]
  },
  {
   "cell_type": "markdown",
   "metadata": {},
   "source": [
    "**Workshop_08**\n",
    "\n",
    "This workshop has the most modifies because of the fancy details added in the representation:\n",
    "* I had to modify the **create_holes** function that took in input a .lines representing rectangles to a function working with only lines to represent a hole in the wall\n",
    "* I implemented the function **build_ladder** that takes in input also the function from *workshop_03* to build the ladder inside the relative floor the module is generating.\n",
    "* I inserted the function **build_doors_and_windows** that takes in input among others parameters the name of the object to create (\"door\" or \"window\") and the two functions from *workshop_07* to build them.\n",
    "* I removed the randomic texturization given by the different kind of room (bedroom, bathroom,...) to keep the complexity down and giving a unique texture for the floors.\n",
    "* The main function renamed ***ggpl_building_house*** is now parametrized to the .lines files, to the functions from the other workshops (03 and 07) and to the number of floors to insert ladders where needed."
   ]
  },
  {
   "cell_type": "markdown",
   "metadata": {},
   "source": [
    "**Workshop_09**\n",
    "\n",
    "This workshop remains unmodified thanks to the proper implementation."
   ]
  },
  {
   "cell_type": "markdown",
   "metadata": {},
   "source": [
    "## Variables used"
   ]
  },
  {
   "cell_type": "markdown",
   "metadata": {},
   "source": [
    "There are no proper variables but doors and windows occurrencies which come from **workshop_07** and a set of .lines files referenced by strings:"
   ]
  },
  {
   "cell_type": "markdown",
   "metadata": {},
   "source": [
    "* Here is the sample of the list **lines** to reference the various .lines files in the directory lines\n",
    "    \n",
    "    lines = [\"\\_externalWalls\\_\", \"\\_innerWalls\\_\", \"\\_doors\\_\", \"\\_windows\\_\", \"\\_ladders\\_\"]\n",
    "    These are used to reference the relative indexed files for the different floors:\n",
    "    - eg. ***first\\_model\\_externalWalls\\_1.lines*** is the extern walls plant for the base floor of the first model generated\n",
    "    \n",
    "    \n",
    "* doorX, doorY, doorOccurrency, windowX, windowY, windowOccurrency are parsed from *workshop_07*:\n",
    "\n",
    "    windowY = [0.04,0.04,0.2,0.02,0.16,0.02,0.2,0.04,0.04]\n",
    "windowX = [0.02,0.8,0.05,0.02,0.4,0.02,0.4,0.05,0.04]\n",
    "\n",
    "    windowOccurrency = [[True]\\*9,\n",
    "    [True, False, False, False, False, False, False, False, True],\n",
    "    [True]\\*9,\n",
    "    [True]\\*9,\n",
    "    [True, True, False, True, False, True, False, True, True],\n",
    "    [True]\\*9,\n",
    "    [True, True, False, True, False, True, False, True, True],\n",
    "    [True]\\*9,\n",
    "    [True]\\*9]"
   ]
  },
  {
   "cell_type": "markdown",
   "metadata": {},
   "source": [
    "## The main"
   ]
  },
  {
   "cell_type": "markdown",
   "metadata": {},
   "source": [
    "Here is shown the main function which imports all other workshops and returns the **VIEW** of the model:"
   ]
  },
  {
   "cell_type": "code",
   "execution_count": 5,
   "metadata": {
    "collapsed": false
   },
   "outputs": [],
   "source": [
    "import src.workshop_09 as roof_generator\n",
    "import src.workshop_08 as walls_generator\n",
    "import src.workshop_07 as doors_and_windows_generator\n",
    "import src.workshop_03 as stairs_generator\n",
    "import csv\n",
    "from pyplasm import *\n",
    "\n",
    "lines = [\"_externalWalls_\", \"_innerWalls_\", \"_doors_\", \"_windows_\", \"_ladders_\"]\n",
    "\n",
    "doorY = [.2,.18,.08,.18,.08,.18,.4,.18,.08,.18,.08,.18,.2]\n",
    "doorX = [.2,.5,.2,1.8,.08,.18,.08,.18,.2]\n",
    "doorOccurrency = [[True]*13,\n",
    "\t\t\t\t\t[True, False, True, False, True, False, True, False, True, False, True, False, True],\n",
    "\t\t\t\t\t[True]*13,\n",
    "\t\t\t\t\t[True, False, True, False, True, False, True, False, True, False, True, False, True],\n",
    "\t\t\t\t\t[True, False, True, False, True, True, True, True, True, False, True, False, True],\n",
    "\t\t\t\t\t[True, False, True, False, False, False, True, False, False, False, True, False, True],\n",
    "\t\t\t\t\t[True, False, True, True, True, True, True, True, True, True, True, False, True],\n",
    "\t\t\t\t\t[True, False, False, False, False, False, True, False, False, False, False, False, True],\n",
    "\t\t\t\t\t[True]*13]\n",
    "\n",
    "windowY = [0.04,0.04,0.2,0.02,0.16,0.02,0.2,0.04,0.04]\n",
    "windowX = [0.02,0.8,0.05,0.02,0.4,0.02,0.4,0.05,0.04]\n",
    "windowOccurrency = [[True]*9,\n",
    "\t\t\t\t\t[True, False, False, False, False, False, False, False, True],\n",
    "\t\t\t\t\t[True]*9,\n",
    "\t\t\t\t\t[True]*9,\n",
    "\t\t\t\t\t[True, True, False, True, False, True, False, True, True],\n",
    "\t\t\t\t\t[True]*9,\n",
    "\t\t\t\t\t[True, True, False, True, False, True, False, True, True],\n",
    "\t\t\t\t\t[True]*9,\n",
    "\t\t\t\t\t[True]*9]\n",
    "\n",
    "#first model\n",
    "externalWallsFirstModel = walls_generator.generate_2D_walls(\"lines/first_model\" + lines[0] + \"1.lines\")\n",
    "xFactorFirstModel = 15/SIZE([1])(externalWallsFirstModel)[0]\n",
    "yFactorFirstModel = 15.1/SIZE([2])(externalWallsFirstModel)[0]\n",
    "zFactorFirstModel = xFactorFirstModel\n",
    "\n",
    "def multi_storey_house(nFloors, modelString, xFactor, yFactor, zFactor):\n",
    "\t\"\"\"multi_storey_house is a function that returns the function that calculates the model of the house.\"\"\"\n",
    "\tdef build_windows_and_doors(window, door):\n",
    "\t\t\"\"\"\"This function accepts the list of data structures to generate the windows\"\"\"\n",
    "\t\tdef build_floors(lines, angle, height):\n",
    "\t\t\t\"\"\"This function gets in input the .lines filepath, the angle of the roof and its height and returns a VIEW\n",
    "\t\t\tof the resulting model\"\"\"\n",
    "\t\t\t#a = walls_generator.build_house(lines)\t\n",
    "\t\t\tall_floor = []\n",
    "\t\t\twith open(\"lines/\" + modelString + \"_externalWalls_1.lines\") as file:\n",
    "\t\t\t\treader = csv.reader(file, delimiter=\",\")\n",
    "\t\t\t\tnew_verts = []\n",
    "\t\t\t\tfor row in reader:\n",
    "\t\t\t\t\tnew_verts.append([float(row[0]), float(row[1])])\n",
    "\t\t\t\troofModel = roof_generator.ggpl_generate_structure(new_verts, angle, height)\n",
    "\t\t\t\troofModel = T([3])([nFloors*3/zFactor])(roofModel)\n",
    "\t\t\t\troofModel = S([1,2,3])([xFactor*1.09, yFactor*1.09, zFactor])(roofModel)\n",
    "\t\t\t\troofModel = T([1,2])([-SIZE([1])(roofModel)[0]*0.05, -SIZE([2])(roofModel)[0]*0.05])(roofModel)\n",
    "\n",
    "\t\t\tfor i in range(nFloors):\n",
    "\t\t\t\tfloor_lines = [\"lines/\"+modelString + lines[0] + str(i+1) + '.lines', \"lines/\" + modelString + lines[1] + str(i+1) + '.lines', \n",
    "\t\t\t\t\"lines/\" + modelString + lines[2] + str(i+1) + '.lines', \"lines/\" + modelString + lines[3] + str(i+1) + '.lines', \n",
    "\t\t\t\t\"lines/\" + modelString + lines[4] + str(i) + '.lines', \"lines/\" + modelString + lines[4] + str(i+1) + '.lines']\n",
    "\t\t\t\tfloor = walls_generator.ggpl_building_house(floor_lines, \n",
    "\t\t\t\t\tdoors_and_windows_generator.window(window[0], window[1], window[2]), \n",
    "\t\t\t\t\tdoors_and_windows_generator.door(door[0], door[1], door[2]), \n",
    "\t\t\t\t\tstairs_generator, i, nFloors-1)\n",
    "\t\t\t\tall_floor.append(floor)\n",
    "\t\t\t\t\n",
    "\t\t\tall_floor = STRUCT(all_floor)\n",
    "\t\t\treturn VIEW(STRUCT([all_floor, roofModel]))\n",
    "\t\treturn build_floors\n",
    "\treturn build_windows_and_doors\n"
   ]
  },
  {
   "cell_type": "markdown",
   "metadata": {},
   "source": [
    "## The results"
   ]
  },
  {
   "cell_type": "markdown",
   "metadata": {},
   "source": [
    "Here are shown the two executions for two different cottages generated by calling the function ***multi_storey_house***:\n",
    "* execution with 2 floors for the first model:\n",
    "![first_result](images/first_result.png)"
   ]
  },
  {
   "cell_type": "code",
   "execution_count": null,
   "metadata": {
    "collapsed": true
   },
   "outputs": [],
   "source": []
  }
 ],
 "metadata": {
  "anaconda-cloud": {},
  "kernelspec": {
   "display_name": "Python [default]",
   "language": "python",
   "name": "python2"
  },
  "language_info": {
   "codemirror_mode": {
    "name": "ipython",
    "version": 2
   },
   "file_extension": ".py",
   "mimetype": "text/x-python",
   "name": "python",
   "nbconvert_exporter": "python",
   "pygments_lexer": "ipython2",
   "version": "2.7.12"
  }
 },
 "nbformat": 4,
 "nbformat_minor": 1
}
