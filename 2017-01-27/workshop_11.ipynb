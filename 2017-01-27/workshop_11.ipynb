{
 "cells": [
  {
   "cell_type": "markdown",
   "metadata": {},
   "source": [
    "# Design of a suburban neighborhood"
   ]
  },
  {
   "cell_type": "markdown",
   "metadata": {},
   "source": [
    "In this workshop the goal is to model a realistic neighborhood using the house models generated in the previous one. This program is no input bound because of the characterization resulting by the adoption of a model object's map sample."
   ]
  },
  {
   "cell_type": "markdown",
   "metadata": {},
   "source": [
    "## The model"
   ]
  },
  {
   "cell_type": "markdown",
   "metadata": {},
   "source": [
    "Below is brought forward the image adopted to generate the model:\n",
    "![Neighborhood map](images/neighborhood_model.jpg)\n",
    "The resulting output will not follow the same houses disposition, but mostly the streets trend, for the differences between my models and the houses from the image.\n",
    "I supposed the image to be a representation of a 60x45 meters area, as will be clear in the code. To have the most possible fedelity to the image, I draw on a graph paper some points that I used to compose **CUBOID** and **BEZIERCURVE** to generate streets."
   ]
  },
  {
   "cell_type": "markdown",
   "metadata": {},
   "source": [
    "## Support functions"
   ]
  },
  {
   "cell_type": "markdown",
   "metadata": {},
   "source": [
    "For this workshop I defined some support function to assemble the various parts. Here is a description of them:\n",
    "\n",
    "***generate_straight_street(streetLength, streetWidth, streetHeight, rotation, transX, transY)***:\n",
    "* This function generates a CUBOID with input dimensions ***streetLength, streetWidth, streetHeight***, then applies a rotation of ***rotation*** degrees and translate it of ***transX, transY*** meters.\n",
    "\n",
    "***generate_sidewalker(street)***:\n",
    "* This helper generate sidewalkers for the input ***street*** by adding OFFSETs to it and leaving non coloured.\n",
    "\n",
    "***generate_house(dx, dy, dz, rotation, transX, transY)***:\n",
    "* The last support function is used to create the HPC model of an house according to the ***modelNumber*** in input (it can be only 1 or 2 as we have only 2 models). The house is scaled to ***dx*** x ***dy*** x ***dz*** dimensions and then is rotated by ***rotation*** degrees and translated of ***transX*** and ***transY*** meters."
   ]
  },
  {
   "cell_type": "markdown",
   "metadata": {},
   "source": [
    "## Main function"
   ]
  },
  {
   "cell_type": "markdown",
   "metadata": {},
   "source": [
    "Here is reported the full code of the **workshop_11**'s main function: some of the code comes from the previous workshops as:\n",
    "* the ***lines*** list used to generate the external walls of a sample house to retrieve its scaling factor used to generate the houses.\n",
    "* ***doorX, doorY, doorOccurrency, windowX, windowY, windowOccurrency*** used from **workshop_07** to create doors and windows."
   ]
  },
  {
   "cell_type": "code",
   "execution_count": 1,
   "metadata": {
    "collapsed": false
   },
   "outputs": [
    {
     "name": "stdout",
     "output_type": "stream",
     "text": [
      "Evaluating fenvs.py..\n",
      "...fenvs.py imported in 0.005294 seconds\n"
     ]
    }
   ],
   "source": [
    "import src.workshop_10 as house_generator\n",
    "import src.workshop_09 as roof_generator\n",
    "import src.workshop_08 as walls_generator\n",
    "import src.workshop_07 as doors_and_windows_generator\n",
    "import src.workshop_03 as stairs_generator\n",
    "import csv\n",
    "from random import randint\n",
    "from pyplasm import *\n",
    "\n",
    "lines = [\"_externalWalls_\", \"_innerWalls_\", \"_doors_\", \"_windows_\", \"_ladders_\"]\n",
    "\n",
    "doorY = [.2,.18,.08,.18,.08,.18,.4,.18,.08,.18,.08,.18,.2]\n",
    "doorX = [.2,.5,.2,1.8,.08,.18,.08,.18,.2]\n",
    "doorOccurrency = [[True]*13,\n",
    "\t\t\t\t\t[True, False, True, False, True, False, True, False, True, False, True, False, True],\n",
    "\t\t\t\t\t[True]*13,\n",
    "\t\t\t\t\t[True, False, True, False, True, False, True, False, True, False, True, False, True],\n",
    "\t\t\t\t\t[True, False, True, False, True, True, True, True, True, False, True, False, True],\n",
    "\t\t\t\t\t[True, False, True, False, False, False, True, False, False, False, True, False, True],\n",
    "\t\t\t\t\t[True, False, True, True, True, True, True, True, True, True, True, False, True],\n",
    "\t\t\t\t\t[True, False, False, False, False, False, True, False, False, False, False, False, True],\n",
    "\t\t\t\t\t[True]*13]\n",
    "\n",
    "windowY = [0.04,0.04,0.2,0.02,0.16,0.02,0.2,0.04,0.04]\n",
    "windowX = [0.02,0.8,0.05,0.02,0.4,0.02,0.4,0.05,0.04]\n",
    "windowOccurrency = [[True]*9,\n",
    "\t\t\t\t\t[True, False, False, False, False, False, False, False, True],\n",
    "\t\t\t\t\t[True]*9,\n",
    "\t\t\t\t\t[True]*9,\n",
    "\t\t\t\t\t[True, True, False, True, False, True, False, True, True],\n",
    "\t\t\t\t\t[True]*9,\n",
    "\t\t\t\t\t[True, True, False, True, False, True, False, True, True],\n",
    "\t\t\t\t\t[True]*9,\n",
    "\t\t\t\t\t[True]*9]\n",
    "\n",
    "#first model\n",
    "externalWallsFirstModel = walls_generator.generate_2D_walls(\"lines/first_model\" + lines[0] + \"1.lines\")\n",
    "xFactorFirstModel = 15/SIZE([1])(externalWallsFirstModel)[0]\n",
    "yFactorFirstModel = 15.1/SIZE([2])(externalWallsFirstModel)[0]\n",
    "zFactorFirstModel = xFactorFirstModel\n",
    "\n",
    "#second model\n",
    "externalWallsSecondModel = walls_generator.generate_2D_walls(\"lines/second_model\" + lines[0] + \"1.lines\")\n",
    "xFactorSecondModel = 15/SIZE([1])(externalWallsSecondModel)[0]\n",
    "yFactorSecondModel = 15.1/SIZE([2])(externalWallsSecondModel)[0]\n",
    "zFactorSecondModel = xFactorSecondModel\n",
    "\n",
    "def generate_straight_street(streetLength, streetWidth, streetHeight, rotation, transX, transY):\n",
    "\t\"\"\"This function generates a CUBOID with input dimensions streetLength, streetWidth, streetHeight, \n",
    "\tthen applies a rotation of rotation degrees and translate it of transX, transY meters.\"\"\"\n",
    "\tstreet = CUBOID([streetLength, streetWidth, streetHeight])\n",
    "\tstreet = R([1,2])(rotation)(street)\n",
    "\tstreet = T([1,2])([transX, transY])(street)\n",
    "\treturn street\n",
    "\n",
    "def generate_sidewalker(street):\n",
    "\t\"\"\"This helper generate sidewalkers for the input street by adding OFFSETs to it and leaving non coloured.\"\"\"\n",
    "\tleftSidewalker = OFFSET([0.75,0.75])(street)\n",
    "\tleftSidewalker = S([3])([SIZE([3])(street)[0]/2])(leftSidewalker)\n",
    "\trightSidewalker = OFFSET([-0.75,-0.75])(street)\n",
    "\trightSidewalker = S([3])([SIZE([3])(street)[0]/2])(rightSidewalker)\n",
    "\treturn STRUCT([leftSidewalker, rightSidewalker])\n",
    "\n",
    "def generate_house(modelNumber, dx, dy, dz, rotation, transX, transY):\n",
    "\t\"\"\"This function is used to create the HPC model of an house according to the modelNumber in input \n",
    "\t(it can be only 1 or 2 as we have only 2 models). The house is scaled to dx x dy x dz dimensions and then \n",
    "\tis rotated by rotation degrees and translated of transX and transY meters.\"\"\"\n",
    "\tif (modelNumber == 1):\n",
    "\t\thouse = house_generator.multi_storey_house(2, \"first_model\", xFactorFirstModel, yFactorFirstModel, zFactorFirstModel, \"textures/roof_\")([windowX,windowY,windowOccurrency], [doorX,doorY,doorOccurrency])(lines, PI/5., 3/zFactorFirstModel, \"textures/exteriors_\")\n",
    "\telif (modelNumber == 2):\n",
    "\t\thouse = house_generator.multi_storey_house(3, \"second_model\", xFactorSecondModel, yFactorSecondModel, zFactorSecondModel, \"textures/roof_\")([windowX,windowY,windowOccurrency], [doorX,doorY,doorOccurrency])(lines, PI/5., 3/zFactorSecondModel, \"textures/exteriors_\")\n",
    "\thouse = S([1,2,3])([dx/SIZE([1])(house)[0],dy/SIZE([2])(house)[0],dz/SIZE([3])(house)[0]])(house)\n",
    "\thouse = R([1,2])(rotation)(house)\n",
    "\thouse = T([1,2,3])([transX, transY, 0.1])(house)\n",
    "\treturn house\n",
    "\n",
    "def ggpl_suburban_neighborhood():\n",
    "\t\"\"\"This function generates a realistic suburban neighborhood inspired by a 60x45 meters image \n",
    "consisting in streets and houses. The function returns the VIEW of the model generated.\"\"\"\n",
    "\tbase = CUBOID([62, 47, -5])\n",
    "\tbase = MATERIAL([.05,.05,.05,.05,  .4,.2,0,1,  0,0,0,0, 0,0,0,1, 100])(base)\n",
    "\tgrass = CUBOID([60,45,0.1])\n",
    "\tgrass = MATERIAL([0,0,0,1,  0,.1,0,1,  0,.1,0,1, 0,0,0,1, 0])(grass)\n",
    "\tstreetsHeight = .5\n",
    "\tstreetsWidth = 4\n",
    "\tcurveStreetsWidth = streetsWidth - 0.7\n",
    "\n",
    "\tmeterX = CUBOID([0.1,100,1])\n",
    "\tmeterY = CUBOID([100, 0.1,1])\n",
    "\tmeterX = T([1])(15)(meterX)\n",
    "\tmeterY = T([2])(30)(meterY)\n",
    "\n",
    "\tstraightStreet_1 = generate_straight_street(15.5, streetsWidth, streetsHeight, -PI/3.5, -3, 26)\n",
    "\tstraightStreet_2 = generate_straight_street(15, streetsWidth, streetsHeight, -PI/8, 47, 7)\n",
    "\tstraightStreet_3 = generate_straight_street(15, streetsWidth, streetsHeight, 0, 22, 30)\n",
    "\tstraightStreet_4 = generate_straight_street(8, streetsWidth -1, streetsHeight, PI/4, 9.5, 20)\n",
    "\n",
    "\tcurveStreet_1 = MAP(BEZIERCURVE([[9.5, 16], [15, 13], [27, 10], [35,11], [41, 12], [45,11], [50, 8.5]]))(INTERVALS(1)(32))\n",
    "\tcurveStreet_1 = OFFSET([curveStreetsWidth, curveStreetsWidth])(curveStreet_1)\n",
    "\tcurveStreet_1 = T([1,2])([-3.1,-1.9])(curveStreet_1)\n",
    "\tcurveStreet_1 = PROD([curveStreet_1, Q(streetsHeight)])\n",
    "\n",
    "\tcurveStreet_2 = MAP(BEZIERCURVE([[50,8.3], [49,9], [47, 12], [49,18], [47,19], \n",
    "\t\t[47,20],[46,22], [45,24], [44,26],[43,28], [41,31], [39,32.5], [36,32.6]]))(INTERVALS(1)(32))\n",
    "\tcurveStreet_2 = OFFSET([curveStreetsWidth, curveStreetsWidth])(curveStreet_2)\n",
    "\tcurveStreet_2 = T([1,2])([-2,-2])(curveStreet_2)\n",
    "\tcurveStreet_2 = PROD([curveStreet_2, Q(streetsHeight)])\n",
    "\n",
    "\tcurveStreet_3 = MAP(BEZIERCURVE([[22,32],[21,31.5], [20,31], [20,30.5]]))(INTERVALS(1)(32))\n",
    "\tcurveStreet_3 = OFFSET([curveStreetsWidth, curveStreetsWidth])(curveStreet_3)\n",
    "\tcurveStreet_3 = T([1,2])([-2,-1.5])(curveStreet_3)\n",
    "\tcurveStreet_3 = PROD([curveStreet_3, Q(streetsHeight)])\n",
    "\n",
    "\trotary = CYLINDER([5, streetsHeight])(100)\n",
    "\trotary_center = CYLINDER([1, streetsHeight])(100)\n",
    "\trotary = DIFFERENCE([rotary, rotary_center])\n",
    "\trotary = T([1,2])([16,29])(rotary)\n",
    "\n",
    "\t#generating houses\n",
    "\thouse_1 = generate_house(1, 6,6,6, PI/4, 7,22)\n",
    "\thouse_2 = generate_house(2, 8,8,8, PI/2.3, 24,14)\n",
    "\thouse_3 = generate_house(2, 8,14,8, PI/2, 43,13)\n",
    "\thouse_4 = generate_house(2, 8,13,8, PI/16, 51,9)\n",
    "\thouse_5 = generate_house(1, 8,8,6, PI/6, 48, 24)\n",
    "\thouse_6 = generate_house(1, 8,8,6, -PI/6, 36.5, 36.5)\t\t\t\n",
    "\thouse_7 = generate_house(2, 8,14,8, PI/2, 37, 35)\n",
    "\thouse_8 = generate_house(2, 8,8,8, PI/1.35, 16, 36)\n",
    "\n",
    "\t#adding sidewalkers\n",
    "\tstraightStreet_1_sidewalker = generate_sidewalker(straightStreet_1)\n",
    "\tstraightStreet_2_sidewalker = generate_sidewalker(straightStreet_2)\n",
    "\tstraightStreet_3_sidewalker = generate_sidewalker(straightStreet_3)\n",
    "\tcurveStreet_1_sidewalker = generate_sidewalker(curveStreet_1)\n",
    "\tcurveStreet_2_sidewalker = generate_sidewalker(curveStreet_2)\n",
    "\tcurveStreet_3_sidewalker = generate_sidewalker(curveStreet_3)\n",
    "\n",
    "\t#cleaning borders\n",
    "\tcleanerLeftBorder = CUBOID([-5, 30, streetsHeight])\n",
    "\tcleanerRightBorder = CUBOID([5, 10, streetsHeight])\n",
    "\tcleanerRightBorder = T([1])([60])(cleanerRightBorder)\n",
    "\tstraightStreet_1 = DIFFERENCE([straightStreet_1, cleanerLeftBorder])\n",
    "\tstraightStreet_1_sidewalker = DIFFERENCE([straightStreet_1_sidewalker, cleanerLeftBorder])\n",
    "\tstraightStreet_2 = DIFFERENCE([straightStreet_2, cleanerRightBorder])\n",
    "\tstraightStreet_2_sidewalker = DIFFERENCE([straightStreet_2_sidewalker, cleanerRightBorder])\n",
    "\n",
    "\t#assembling\n",
    "\tstreets = STRUCT([straightStreet_1, straightStreet_2, straightStreet_3, straightStreet_4, curveStreet_1, curveStreet_2, curveStreet_3, rotary])\n",
    "\tsidewalkers = STRUCT([straightStreet_1_sidewalker, straightStreet_2_sidewalker, straightStreet_3_sidewalker, curveStreet_1_sidewalker, curveStreet_2_sidewalker, curveStreet_3_sidewalker])\n",
    "\tstreets = MATERIAL([.1,.1,.1,.2,  0,0,0,1,  0,0,0,1, 0,0,0,1, 10])(streets)\n",
    "\thouses = STRUCT([house_1, house_2, house_3, house_4, house_5, house_6, house_7, house_8])\n",
    "\tmodel = STRUCT([streets, grass, sidewalkers, houses])\n",
    "\tmodel = T([1,2])([1,1])(model)\n",
    "\tVIEW(STRUCT([model, base]))\n",
    "\n",
    "ggpl_suburban_neighborhood()"
   ]
  },
  {
   "cell_type": "markdown",
   "metadata": {},
   "source": [
    "## Results"
   ]
  },
  {
   "cell_type": "markdown",
   "metadata": {},
   "source": [
    "Here are shown some images captured after an execution of the ***workshop_11.py***:\n",
    "![Output image 1](images/output_image_1.png)\n",
    "![Output image 2](images/output_image_2.png)\n",
    "![Output image 3](images/output_image_3.png)"
   ]
  },
  {
   "cell_type": "markdown",
   "metadata": {},
   "source": [
    "## Work in progress..."
   ]
  },
  {
   "cell_type": "markdown",
   "metadata": {},
   "source": [
    "I'm currently working to add some fancy elements to the model such as a fountain for the rotary, a playpark and trees..."
   ]
  }
 ],
 "metadata": {
  "anaconda-cloud": {},
  "kernelspec": {
   "display_name": "Python [default]",
   "language": "python",
   "name": "python2"
  },
  "language_info": {
   "codemirror_mode": {
    "name": "ipython",
    "version": 2
   },
   "file_extension": ".py",
   "mimetype": "text/x-python",
   "name": "python",
   "nbconvert_exporter": "python",
   "pygments_lexer": "ipython2",
   "version": "2.7.12"
  }
 },
 "nbformat": 4,
 "nbformat_minor": 1
}
