{
 "cells": [
  {
   "cell_type": "markdown",
   "metadata": {},
   "source": [
    "# Playing with plane intersections"
   ]
  },
  {
   "cell_type": "markdown",
   "metadata": {},
   "source": [
    "The goal for this workshop is the resolution of a mathematical problem. In particular, I have to write down a program that, given in input a set of points and an angle, returns a VIEW of the semi-planes passing through the polygon's segments (derived by connecting the points) with the given angle. So the output model should consist in a roof with vertexes in every point of the space where 3 planes intersecate each others."
   ]
  },
  {
   "cell_type": "markdown",
   "metadata": {},
   "source": [
    "## The method"
   ]
  },
  {
   "cell_type": "markdown",
   "metadata": {},
   "source": [
    "The method I'm trying to use is the following: given each segment, calculate the bundle of planes passing for the straight on which it lies. After that, selecting the plane with the input angle, and define 2 equation's systems:\n",
    "* one between each two consecutive segments to find edges\n",
    "* one between three consecutive segments, which if has a point as unique solution identifies a point instead of an edge\n"
   ]
  },
  {
   "cell_type": "markdown",
   "metadata": {},
   "source": []
  }
 ],
 "metadata": {
  "anaconda-cloud": {},
  "kernelspec": {
   "display_name": "Python [default]",
   "language": "python",
   "name": "python2"
  },
  "language_info": {
   "codemirror_mode": {
    "name": "ipython",
    "version": 2
   },
   "file_extension": ".py",
   "mimetype": "text/x-python",
   "name": "python",
   "nbconvert_exporter": "python",
   "pygments_lexer": "ipython2",
   "version": "2.7.12"
  }
 },
 "nbformat": 4,
 "nbformat_minor": 1
}
