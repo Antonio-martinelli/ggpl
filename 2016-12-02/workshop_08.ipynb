{
 "cells": [
  {
   "cell_type": "markdown",
   "metadata": {},
   "source": [
    "# House modeling from real map with textures"
   ]
  },
  {
   "cell_type": "markdown",
   "metadata": {},
   "source": [
    "In this workshop we aim to represent a realistic model of an house starting by its map plan, considering inner and outer walls and relative windows and doors.\n",
    "The plan chosen for the representation is the following:\n",
    "\n",
    "![House model](house_model.jpg)"
   ]
  },
  {
   "cell_type": "markdown",
   "metadata": {},
   "source": [
    "## The variables"
   ]
  },
  {
   "cell_type": "markdown",
   "metadata": {},
   "source": [
    "There are no real variables except for some scaling factor and wall offsets:\n",
    "* scales, to scale the non realistic measures obtained by the map (we'll discuss this input in a moment)\n",
    "    * xScale\n",
    "    * yScale\n",
    "    * zScale\n",
    "* offsets, to give walls a different consistence\n",
    "    * outerWallOffset\n",
    "    * innerWallOffset\n",
    "    * terraceWallOffset"
   ]
  },
  {
   "cell_type": "markdown",
   "metadata": {},
   "source": [
    "## The method"
   ]
  },
  {
   "cell_type": "markdown",
   "metadata": {},
   "source": [
    "To reach our goal we need to extract an usable map from the model image. To do so we need a graphic software, such as [Inkscape](https://inkscape.org/en/) that I used in this case.\n",
    "![Inkscape logo](https://media.inkscape.org/static/images/inkscape-logo.svg)"
   ]
  },
  {
   "cell_type": "markdown",
   "metadata": {},
   "source": [
    "I retraced it using this software and I exported the resulting ***\".svg\"*** files into a web service called ***[svg2lines](http://cvdlab.github.io/svg2lines/)***, obtaining as output ***\".lines\"*** files, text documents describing the lines resulted by the drawings as an array of float. For more clarity, here is shown a sample file:\n",
    "* 108.96766,13.562734,108.42554,449.97551999999996\n",
    "* 108.42554,449.97551999999996,406.05364000000003,450.51764999999995\n",
    "* 406.05364000000003,450.51764999999995,407.13789,535.6316899999999\n",
    "* 407.13789,535.6316899999999,684.1651400000001,534.5474399999999\n",
    "* 684.1651400000001,534.5474399999999,683.0808800000001,56.93294899999995\n",
    "* 683.0808800000001,56.93294899999995,343.1668200000001,55.84869299999995\n",
    "* 343.1668200000001,55.84869299999995,343.1668200000001,14.104861999999947\n",
    "* 108.96766,13.562734,343.1668200000001,14.104861999999947\n"
   ]
  },
  {
   "cell_type": "markdown",
   "metadata": {},
   "source": [
    "To summarize, here we provide a list of the file needed and generated for the workshop:\n",
    "* bedroomX.svg\n",
    "* livingroomX.svg\n",
    "* bathroomX.svg\n",
    "* terraceSurface.svg\n",
    "* terraceWalls.svg\n",
    "* doors.svg\n",
    "* windows.svg\n",
    "* externalWalls.svg\n",
    "* innerWalls.svg\n",
    "\n",
    "that are used to produce:\n",
    "* bedroomX.lines\n",
    "* livingroomX.lines\n",
    "* bathroomX.lines\n",
    "* terraceX.lines\n",
    "* terraceWalls.lines\n",
    "* doors.lines\n",
    "* windows.lines\n",
    "* externalWalls.lines\n",
    "* innerWalls.lines\n",
    "\n",
    "where X is used to enumerate the different occurrences of the same room. "
   ]
  },
  {
   "cell_type": "markdown",
   "metadata": {},
   "source": [
    "Having this files as input, the program uses 2 different support functions: ***generate_2D_walls(linesFileName)*** and ***create_holes(linesFileName)*** to build walls and relative holes for doors and windows.\n",
    "There is also another support function ***texturize_floors()*** that adds fancy textures randomically picked from a set of 4 different textures for the floors:"
   ]
  },
  {
   "cell_type": "code",
   "execution_count": 5,
   "metadata": {
    "collapsed": false
   },
   "outputs": [],
   "source": [
    "def generate_2D_walls(linesFileName):\n",
    "    \"\"\"This function takes in input a .lines filename and returns the 2D HPC model of a set of walls\"\"\"\n",
    "    with open(\"lines/\"+linesFileName +  \".lines\", \"rb\") as file:\n",
    "        reader = csv.reader(file, delimiter=\",\")\n",
    "        polylineList = []\n",
    "        for row in reader:\n",
    "            polylineList.append(POLYLINE([[float(row[0]), float(row[1])],[float(row[2]), float(row[3])]]))\n",
    "    wall = STRUCT(polylineList)\n",
    "    return wall\n",
    "\n",
    "\n",
    "def create_holes(linesFileName):\n",
    "    \"\"\"This function, given a .lines filename, returns the 2D HPC model of a set of rectangles, placed\n",
    "    where we need to open an hole in the wall to insert doors and windows\"\"\"\n",
    "    with open(\"lines/\"+ linesFileName + \".lines\", \"rb\") as file:\n",
    "        reader = csv.reader(file, delimiter=\",\")\n",
    "        holeModels = []\n",
    "        poly = []\n",
    "        acc = 0\n",
    "        for row in reader:\n",
    "            acc = acc + 1\n",
    "            poly.append([float(row[0]),float(row[1])])\n",
    "            if(acc == 4):\n",
    "                holeModels.append(MKPOL([poly,[[1,2,3,4]],None]))\n",
    "                poly = []\n",
    "                acc = 0\n",
    "    holeModels = STRUCT(holeModels)\n",
    "    return holeModels\n",
    "\n",
    "\n",
    "def texturize_floors():\n",
    "    \"\"\"This function returns a list of HPC models, in particular models of the different floors that are \n",
    "    present in the building, including the external floors, adding to them also a randomly picked texture from a\n",
    "    specified set for each type of room\"\"\"\n",
    "    res = []\n",
    "    def build_floor(roomType):\n",
    "        counter = 1\n",
    "        result = []\n",
    "        while True:\n",
    "            if os.path.isfile(\"lines/\" + roomType + str(counter) + \".lines\"):\n",
    "                with open(\"lines/\" + roomType+str(counter)+\".lines\", \"rb\") as file:\n",
    "                    reader = csv.reader(file, delimiter=\",\")\n",
    "                    polylineList = []\n",
    "                    for row in reader:\n",
    "                        polylineList.append(POLYLINE([[float(row[0]), float(row[1])],[float(row[2]), float(row[3])]]))\n",
    "                result.append(TEXTURE(\"textures/\" + roomType+str(randint(1,4))+\".jpg\")(SOLIDIFY(STRUCT(polylineList))))\n",
    "                counter = counter + 1\n",
    "            else: \n",
    "                counter = 1\n",
    "                break\n",
    "        return result\n",
    "    res = res + build_floor(\"bedroom\")\n",
    "    res = res + build_floor(\"bathroom\")\n",
    "    res = res + build_floor(\"livingroom\")\n",
    "    res = res + build_floor(\"terrace\")\n",
    "    return res"
   ]
  },
  {
   "cell_type": "markdown",
   "metadata": {},
   "source": [
    "The main function ***build_house()*** is shown below:"
   ]
  },
  {
   "cell_type": "code",
   "execution_count": 6,
   "metadata": {
    "collapsed": true
   },
   "outputs": [],
   "source": [
    "def build_house():\n",
    "\t\"\"\"This function generates all house's walls and floors. It takes no argument, due to the fact\n",
    "\tthat it's parameterized thanks to the data files used in its body. This function also applies a scaling factor in order \n",
    "\tto transform the units of measure used in inkscape (pixels) into meters, to have a more realistic render.\"\"\"\n",
    "\texternalWalls = generate_2D_walls(\"externalWalls\")\n",
    "\n",
    "\txScale = 15/SIZE([1])(externalWalls)[0]\n",
    "\tyScale = 15.1/SIZE([2])(externalWalls)[0]\n",
    "\tzScale = xScale\n",
    "\touterWallOffset = 12\n",
    "\tinnerWallOffset = 7\n",
    "\tterraceWallOffset = 5\n",
    "\n",
    "\t#building walls\n",
    "\twalls = OFFSET([outerWallOffset, outerWallOffset])(externalWalls)\n",
    "\twalls = PROD([walls, Q(3/zScale)])\n",
    "\tinnerWalls = generate_2D_walls(\"innerWalls\")\n",
    "\tinnerWalls = OFFSET([innerWallOffset, innerWallOffset])(innerWalls)\n",
    "\tinnerWalls = PROD([innerWalls, Q(3/zScale)])\n",
    "\tterraceWalls = generate_2D_walls(\"terraceWalls\")\n",
    "\tterraceWalls = OFFSET([terraceWallOffset, terraceWallOffset])(terraceWalls)\n",
    "\tterraceWalls = PROD([terraceWalls, Q(1.5/zScale)])\n",
    "\tterraceWalls = TEXTURE([\"textures/terraceWalls.jpg\",True,True,10,10,PI/2.,20,20,10,10])(terraceWalls)\n",
    "\n",
    "\t#generating holes in walls\n",
    "\tdoors = create_holes(\"doors\")\n",
    "\tdoors = PROD([doors, Q(2.5/zScale)])\n",
    "\twindows = create_holes(\"windows\")\n",
    "\twindows = PROD([windows, Q(SIZE([3])(walls)[0]/2.)])\n",
    "\twindows = T(3)(SIZE([3])(walls)[0]/4.)(windows)\n",
    "\n",
    "\t#removing holes from walls\n",
    "\texteriors = DIFFERENCE([walls, windows, doors])\n",
    "\tinteriors = DIFFERENCE([innerWalls, doors, windows])\n",
    "\n",
    "\t#adding textures to the walls and floor\n",
    "\texteriors = TEXTURE([\"textures/exteriors.jpg\",True,True,10,10,PI/2.,20,20,10,10])(exteriors)\n",
    "\tinteriors = TEXTURE([\"textures/interiors.jpg\",True,True,1,1,PI/2.,5,5])(interiors)\n",
    "\tfloor = STRUCT(texturize_floors())\n",
    "\n",
    "\thouse = S([1,2,3])([xScale,yScale, zScale])(STRUCT([interiors, exteriors, terraceWalls, floor]))\n",
    "\n",
    "\treturn house"
   ]
  },
  {
   "cell_type": "markdown",
   "metadata": {},
   "source": [
    "## The results"
   ]
  },
  {
   "cell_type": "markdown",
   "metadata": {},
   "source": [
    "Here are provided some output screens resulting by multiple executions of the code developed:\n",
    "![First result](first_execution.png)\n",
    "![Second result](second_execution.png)\n",
    "![Third result](third_execution.png)"
   ]
  }
 ],
 "metadata": {
  "anaconda-cloud": {},
  "kernelspec": {
   "display_name": "Python [default]",
   "language": "python",
   "name": "python2"
  },
  "language_info": {
   "codemirror_mode": {
    "name": "ipython",
    "version": 2
   },
   "file_extension": ".py",
   "mimetype": "text/x-python",
   "name": "python",
   "nbconvert_exporter": "python",
   "pygments_lexer": "ipython2",
   "version": "2.7.12"
  }
 },
 "nbformat": 4,
 "nbformat_minor": 1
}
