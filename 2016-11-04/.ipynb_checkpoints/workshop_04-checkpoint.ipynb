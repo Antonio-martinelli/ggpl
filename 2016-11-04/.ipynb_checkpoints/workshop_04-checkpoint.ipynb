{
 "cells": [
  {
   "cell_type": "markdown",
   "metadata": {},
   "source": [
    "# L shaped hip roof builder"
   ]
  },
  {
   "cell_type": "markdown",
   "metadata": {},
   "source": [
    "In this workshop we take as model an roof to define a function that takes in input a list of *verts* and a list of *cells* that are going to define the roof shape and produces in output an *HPC object* that represents the roof with his frame."
   ]
  },
  {
   "cell_type": "markdown",
   "metadata": {},
   "source": [
    "## The model"
   ]
  },
  {
   "cell_type": "markdown",
   "metadata": {},
   "source": [
    "As model for this workshop I chose an *L shaped hip roof*, which can be seen at [this link](http://4.bp.blogspot.com/-BiJMpyiXYfQ/U4CMXsTEmiI/AAAAAAAABzs/i-LN0Apl0ok/s1600/Hip+and+Valley.jpg) or in the following images: ![first model](l_shaped_roof.png)![second model](second_l_shaped_roof.png)"
   ]
  },
  {
   "cell_type": "markdown",
   "metadata": {},
   "source": [
    "## The method"
   ]
  },
  {
   "cell_type": "markdown",
   "metadata": {},
   "source": [
    "The first step is to produce a good and coherent input for the function, because a bad serie of vertices and cells would lead to a *\"non-roof-shaped\" model*. In particular, all the vertices of a single cell must be **complanar** to have a real building, and for this the function ***check_complanarity(verts, cells)*** that takes the 2 lists in input and return *True* if all the cells are complanar and so we can use the inputs to build a proper roof: "
   ]
  },
  {
   "cell_type": "markdown",
   "metadata": {},
   "source": [
    "def check_complanarity(verts, cells):\n",
    "\tfor cell in cells:\n",
    "\t\tif(len(cell) > 3):\n",
    "\t\t\tmatrix = []\n",
    "\t\t\tlastPoint = cell[-1]\n",
    "\t\t\tfor elem in cell:\n",
    "\t\t\t\tpoint = verts[int(elem)-1]\n",
    "\t\t\t\trow = []\n",
    "\t\t\t\tfor i in range(len(point)):\n",
    "\t\t\t\t\trow.append(point[i]-verts[lastPoint-1][i])\n",
    "\t\t\t\tmatrix.append(row)\n",
    "\t\t\tA = numpy.matrix(matrix)\n",
    "\t\t\tdim = numpy.linalg.matrix_rank(A)\n",
    "\t\t\tif(dim > 2):\n",
    "\t\t\t\treturn False\n",
    "\treturn True"
   ]
  },
  {
   "cell_type": "markdown",
   "metadata": {},
   "source": [
    "There is also a support function ***normalize_list(verts)*** useful to round the vertices if they are derived from a *SKEL_2* of an HPC model for it would change a little the coordinates and we wouldn't have complanar cells:"
   ]
  },
  {
   "cell_type": "code",
   "execution_count": 2,
   "metadata": {
    "collapsed": true
   },
   "outputs": [],
   "source": [
    "def normalize_list(verts):\n",
    "\tfor j in range(len(verts)):\n",
    "\t\tfor i in range(len(verts[j])):\n",
    "\t\t\tif(abs(verts[j][i]) < 0.001):\n",
    "\t\t\t\tverts[j][i] = 0\n",
    "\t\t\telse:\n",
    "\t\t\t\tverts[j][i] = round(verts[j][i],1)"
   ]
  },
  {
   "cell_type": "markdown",
   "metadata": {},
   "source": [
    "There is an another support function ***compute_incident_faces(listUkpol)*** that takes in input the list calculated from the call of *UKPOL* and returns a dictionary that has *keyvalue* as the coordinates of a vertex and as *value* a list of the cells incident in that point:"
   ]
  },
  {
   "cell_type": "code",
   "execution_count": 3,
   "metadata": {
    "collapsed": true
   },
   "outputs": [],
   "source": [
    "def compute_incident_faces(listUkpol):\n",
    "\tdictionary = {}\n",
    "\tverts = listUkpol[0]\n",
    "\tnormalize_list(verts)\n",
    "\tcells = listUkpol[1]\n",
    "\tfor cell in cells:\n",
    "\t\tfor elem in cell:\n",
    "\t\t\tpoint = str(verts[int(elem)-1])\n",
    "\t\t\tif(point not in dictionary):\n",
    "\t\t\t\tdictionary[point] = []\n",
    "\t\t\tdictionary[point].append(elem)\n",
    "\treturn dictionary"
   ]
  },
  {
   "cell_type": "code",
   "execution_count": null,
   "metadata": {
    "collapsed": true
   },
   "outputs": [],
   "source": []
  }
 ],
 "metadata": {
  "anaconda-cloud": {},
  "kernelspec": {
   "display_name": "Python [default]",
   "language": "python",
   "name": "python2"
  },
  "language_info": {
   "codemirror_mode": {
    "name": "ipython",
    "version": 2
   },
   "file_extension": ".py",
   "mimetype": "text/x-python",
   "name": "python",
   "nbconvert_exporter": "python",
   "pygments_lexer": "ipython2",
   "version": "2.7.12"
  }
 },
 "nbformat": 4,
 "nbformat_minor": 1
}
