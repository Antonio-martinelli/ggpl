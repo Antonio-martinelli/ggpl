{
 "cells": [
  {
   "cell_type": "markdown",
   "metadata": {},
   "source": [
    "# L and U shaped hip roof builder"
   ]
  },
  {
   "cell_type": "markdown",
   "metadata": {},
   "source": [
    "In this workshop we take as model an roof to define a function that takes in input a list of *verts* and a list of *cells* that are going to define the roof shape and produces in output an *HPC object* that represents the roof with his frame."
   ]
  },
  {
   "cell_type": "markdown",
   "metadata": {},
   "source": [
    "## The model"
   ]
  },
  {
   "cell_type": "markdown",
   "metadata": {},
   "source": [
    "As model for this workshop I chose an *L shaped hip roof*, which can be seen at [this link](http://4.bp.blogspot.com/-BiJMpyiXYfQ/U4CMXsTEmiI/AAAAAAAABzs/i-LN0Apl0ok/s1600/Hip+and+Valley.jpg) or in the following images: ![first model](l_shaped_roof.png)![second model](second_l_shaped_roof.png)"
   ]
  },
  {
   "cell_type": "markdown",
   "metadata": {},
   "source": [
    "## The method"
   ]
  },
  {
   "cell_type": "markdown",
   "metadata": {},
   "source": [
    "The first step is to produce a good and coherent input for the function, because a bad serie of vertices and cells would lead to a *\"non-roof-shaped\" model*. In particular, all the vertices of a single cell must be **complanar** to have a real building, and for this the function ***check_complanarity(verts, cells)*** that takes the 2 lists in input and return *True* if all the cells are complanar and so we can use the inputs to build a proper roof: "
   ]
  },
  {
   "cell_type": "code",
   "execution_count": 12,
   "metadata": {
    "collapsed": false
   },
   "outputs": [],
   "source": [
    "import numpy\n",
    "\n",
    "def check_complanarity(verts, cells):\n",
    "\t\"\"\"This function takes a list of vertices and a list of cells \n",
    "       in input and return True if all the cells are complanar, False elsewhere\"\"\"\n",
    "\tround_vertices(verts)\n",
    "\tfor cell in cells:\n",
    "\t\tif(len(cell) > 3):\n",
    "\t\t\tmatrix = []\n",
    "\t\t\tlastPoint = cell[-1]\n",
    "\t\t\tfor elem in cell:\n",
    "\t\t\t\tpoint = verts[int(elem)-1]\n",
    "\t\t\t\trow = []\n",
    "\t\t\t\tfor i in range(len(point)):\n",
    "\t\t\t\t\trow.append(point[i]-verts[lastPoint-1][i])\n",
    "\t\t\t\tmatrix.append(row)\n",
    "\t\t\tA = numpy.matrix(matrix)\n",
    "\t\t\tdim = numpy.linalg.matrix_rank(A)\n",
    "\t\t\tif(dim > 2):\n",
    "\t\t\t\treturn False\n",
    "\treturn True\n"
   ]
  },
  {
   "cell_type": "markdown",
   "metadata": {},
   "source": [
    "There is a support function ***round_vertices(verts)*** called by ***check_complanarity*** useful to round the vertices if they are derived from a *SKEL_2* of an HPC model for it would change a little the coordinates and we wouldn't have complanar cells:"
   ]
  },
  {
   "cell_type": "code",
   "execution_count": 9,
   "metadata": {
    "collapsed": true
   },
   "outputs": [],
   "source": [
    "def round_vertices(verts):\n",
    "\t\"\"\"This function round the coordinates of a given list of vertices: if the vertex has a coordinate \n",
    "\t\tsmaller than 0.001 it will be rounded to 0, alternatively it will be rounded to the first decimal.\n",
    "\t\"\"\"\n",
    "\tfor i in range(len(verts)):\n",
    "\t\tfor j in range(len(verts[i])):\n",
    "\t\t\tif(abs(verts[i][j]) < 0.001):\n",
    "\t\t\t\tverts[i][j] = 0\n",
    "\t\t\telse:\n",
    "\t\t\t\tverts[i][j] = round(verts[i][j],1)\n"
   ]
  },
  {
   "cell_type": "markdown",
   "metadata": {},
   "source": [
    "There is an another support function ***compute_incident_faces(listUkpol)*** that takes in input the list calculated from the call of *UKPOL* and returns a dictionary that has *keyvalue* as the coordinates of a vertex and as *value* a list of the cells incident in that point:"
   ]
  },
  {
   "cell_type": "code",
   "execution_count": 8,
   "metadata": {
    "collapsed": true
   },
   "outputs": [],
   "source": [
    "def compute_incident_faces(listUkpol):\n",
    "\t\"\"\"This function takes in input the result of UKPOL() function and \n",
    "\t\treturns a dictionary that has keyvalue as the coordinates of a vertex and \n",
    "\t\tas value a list of the cells incident in that point\n",
    "\t\"\"\"\n",
    "\tdictionary = {}\n",
    "\tverts = listUkpol[0]\n",
    "\tround_vertices(verts)\n",
    "\tcells = listUkpol[1]\n",
    "\tfor cell in cells:\n",
    "\t\tfor elem in cell:\n",
    "\t\t\tpoint = str(verts[int(elem)-1])\n",
    "\t\t\tif(point not in dictionary):\n",
    "\t\t\t\tdictionary[point] = []\n",
    "\t\t\tdictionary[point].append(elem)\n",
    "\treturn dictionary\n"
   ]
  },
  {
   "cell_type": "markdown",
   "metadata": {
    "collapsed": true
   },
   "source": [
    "The last support function, ***clean_cells(cells,verts)*** is used to recognise the roof's base cells and to remove them so the roof remains open on the bottom side:"
   ]
  },
  {
   "cell_type": "code",
   "execution_count": 3,
   "metadata": {
    "collapsed": true
   },
   "outputs": [],
   "source": [
    "def clean_cells(cells, verts):\n",
    "\t\"\"\"This function takes in input a list of vertices and a list of cells and returns the cells from the former list that doesn't remains\n",
    "\t   with coordinate z = 0\"\"\"\n",
    "\tcleaned = []\n",
    "\tfor i in range(len(cells)-1):\n",
    "\t\tisBaseCell = True\n",
    "\t\tfor pointIndex in cells[i]:\n",
    "\t\t\tprint \"point: \" + str(pointIndex)\n",
    "\t\t\tif(verts[pointIndex-1][2] != 0):\n",
    "\t\t\t\tisBaseCell = False\n",
    "\t\tif(not isBaseCell):\n",
    "\t\t\tcleaned.append(cells[i])\n",
    "\treturn cleaned\n"
   ]
  },
  {
   "cell_type": "markdown",
   "metadata": {},
   "source": [
    "The main function ***ggpl_L_and_U_roof_builder(verts, cells)*** calls the ***check_complanarity*** support function to check if the cells are eligible to create a proper roof and then defines the roof and his frame giving them a color to distinguish and returns the *STRUCT* obtained by their composition:"
   ]
  },
  {
   "cell_type": "code",
   "execution_count": 13,
   "metadata": {
    "collapsed": true
   },
   "outputs": [],
   "source": [
    "from pyplasm import *\n",
    "\n",
    "def ggpl_L_and_U_roof_builder(verts, cells):\n",
    "\t\"\"\"This function takes in input a list of vertices and a list of\n",
    "\t\tcells and returns an HPC model of an L/U roof and its frame.\"\"\"\n",
    "\tframeOffset = 0.1\n",
    "\tif(not check_complanarity(verts, cells)):\n",
    "\t\treturn None\n",
    "\troofModel = MKPOL([verts,cells, None])\n",
    "\tcleanedCells = clean_cells(cells,verts)\n",
    "\n",
    "\troof = MKPOL([verts, cleanedCells, None])\n",
    "\troof = OFFSET([frameOffset, frameOffset, frameOffset])(roof)\n",
    "\troof = T([3])([frameOffset])(roof)\n",
    "\troof = COLOR(Color4f([68/255., 85/255., 51/255.,1]))(roof)\n",
    "\n",
    "\troofFrame = OFFSET([.1,.1,.1])(SKEL_1(roofModel))\n",
    "\troofFrame = S([3])(.95)(roofFrame)\n",
    "\troofFrame = COLOR(Color4f([48/255., 28/255., 24/255.,1]))(roofFrame)\n",
    "\n",
    "\treturn STRUCT([roof,roofFrame])\n"
   ]
  },
  {
   "cell_type": "markdown",
   "metadata": {},
   "source": [
    "## The results"
   ]
  },
  {
   "cell_type": "markdown",
   "metadata": {},
   "source": [
    "Here are shown the outputs generated by calling  a *VIEW* of the ***ggpl_L_and_U_roof_builder*** with differents values for *verts* and *cells* as input:\n",
    "* first execution, L shaped roof: \n",
    "    * verts = [[0,0,0],[9,0,0],[9,7,0],[6,7,0],[6,4,0],[0,4,0],[2,2,2],[7.5,2,2],[7.5,5.5,2]]\n",
    "    * cells = [[1,7,6],[1,2,8,7],[2,3,9,8],[3,9,4],[4,9,8,5],[5,8,7,6],[6,5,2,1],[2,5,4,3]]"
   ]
  },
  {
   "cell_type": "markdown",
   "metadata": {},
   "source": [
    "![first execution](first_exec.png)\n",
    "![first execution 2](first_exec_2.png)"
   ]
  },
  {
   "cell_type": "markdown",
   "metadata": {},
   "source": [
    "* second execution, U shaped roof: \n",
    "    * verts = [[0,0,0],[9,0,0],[9,7,0],[6,7,0],[6,4,0],[0,4,0],[2,2,2],[7.5,2,2],[7.5,5.5,2]]\n",
    "    * cells = [[1,7,6],[1,2,8,7],[2,3,9,8],[3,9,4],[4,9,8,5],[5,8,7,6],[6,5,2,1],[2,5,4,3]]"
   ]
  },
  {
   "cell_type": "markdown",
   "metadata": {},
   "source": [
    "![second execution](second_exec.png)\n",
    "![second execution 2](second_exec_2.png)"
   ]
  }
 ],
 "metadata": {
  "anaconda-cloud": {},
  "kernelspec": {
   "display_name": "Python [default]",
   "language": "python",
   "name": "python2"
  },
  "language_info": {
   "codemirror_mode": {
    "name": "ipython",
    "version": 2
   },
   "file_extension": ".py",
   "mimetype": "text/x-python",
   "name": "python",
   "nbconvert_exporter": "python",
   "pygments_lexer": "ipython2",
   "version": "2.7.12"
  }
 },
 "nbformat": 4,
 "nbformat_minor": 1
}
